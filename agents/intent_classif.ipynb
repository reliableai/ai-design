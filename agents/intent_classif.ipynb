{
 "cells": [
  {
   "cell_type": "code",
   "execution_count": 9,
   "metadata": {},
   "outputs": [],
   "source": [
    "import pandas as pd, numpy as np\n",
    "import matplotlib.pyplot as plt\n",
    "import seaborn as sns\n",
    "from llm import LLM\n"
   ]
  },
  {
   "cell_type": "markdown",
   "metadata": {},
   "source": [
    "# Example datasets"
   ]
  },
  {
   "cell_type": "markdown",
   "metadata": {},
   "source": [
    "## ITSM -small"
   ]
  },
  {
   "cell_type": "code",
   "execution_count": 10,
   "metadata": {},
   "outputs": [
    {
     "data": {
      "text/plain": [
       "(118, 2)"
      ]
     },
     "execution_count": 10,
     "metadata": {},
     "output_type": "execute_result"
    }
   ],
   "source": [
    "itsm_df = pd.read_csv('../datasets/itsm.csv')\n",
    "# select non empty rows\n",
    "itsm_df_focused = itsm_df[['Text', 'Category']].fillna('EMPTY')\n",
    "itsm_df_focused.head()\n",
    "itsm_df_focused.shape"
   ]
  },
  {
   "cell_type": "markdown",
   "metadata": {},
   "source": [
    "## Youtube comments"
   ]
  },
  {
   "cell_type": "code",
   "execution_count": 11,
   "metadata": {},
   "outputs": [
    {
     "data": {
      "text/html": [
       "<div>\n",
       "<style scoped>\n",
       "    .dataframe tbody tr th:only-of-type {\n",
       "        vertical-align: middle;\n",
       "    }\n",
       "\n",
       "    .dataframe tbody tr th {\n",
       "        vertical-align: top;\n",
       "    }\n",
       "\n",
       "    .dataframe thead th {\n",
       "        text-align: right;\n",
       "    }\n",
       "</style>\n",
       "<table border=\"1\" class=\"dataframe\">\n",
       "  <thead>\n",
       "    <tr style=\"text-align: right;\">\n",
       "      <th></th>\n",
       "      <th>Comment</th>\n",
       "      <th>Sentiment</th>\n",
       "    </tr>\n",
       "  </thead>\n",
       "  <tbody>\n",
       "    <tr>\n",
       "      <th>0</th>\n",
       "      <td>lets not forget that apple pay in 2014 require...</td>\n",
       "      <td>neutral</td>\n",
       "    </tr>\n",
       "    <tr>\n",
       "      <th>1</th>\n",
       "      <td>here in nz 50 of retailers don’t even have con...</td>\n",
       "      <td>negative</td>\n",
       "    </tr>\n",
       "    <tr>\n",
       "      <th>2</th>\n",
       "      <td>i will forever acknowledge this channel with t...</td>\n",
       "      <td>positive</td>\n",
       "    </tr>\n",
       "    <tr>\n",
       "      <th>3</th>\n",
       "      <td>whenever i go to a place that doesn’t take app...</td>\n",
       "      <td>negative</td>\n",
       "    </tr>\n",
       "    <tr>\n",
       "      <th>4</th>\n",
       "      <td>apple pay is so convenient secure and easy to ...</td>\n",
       "      <td>positive</td>\n",
       "    </tr>\n",
       "  </tbody>\n",
       "</table>\n",
       "</div>"
      ],
      "text/plain": [
       "                                             Comment Sentiment\n",
       "0  lets not forget that apple pay in 2014 require...   neutral\n",
       "1  here in nz 50 of retailers don’t even have con...  negative\n",
       "2  i will forever acknowledge this channel with t...  positive\n",
       "3  whenever i go to a place that doesn’t take app...  negative\n",
       "4  apple pay is so convenient secure and easy to ...  positive"
      ]
     },
     "execution_count": 11,
     "metadata": {},
     "output_type": "execute_result"
    }
   ],
   "source": [
    "yt_df = pd.read_csv('../datasets/yt_comments.csv')\n",
    "yt_df.head()"
   ]
  },
  {
   "cell_type": "markdown",
   "metadata": {},
   "source": [
    "## Students performance"
   ]
  },
  {
   "cell_type": "code",
   "execution_count": 12,
   "metadata": {},
   "outputs": [
    {
     "data": {
      "text/html": [
       "<div>\n",
       "<style scoped>\n",
       "    .dataframe tbody tr th:only-of-type {\n",
       "        vertical-align: middle;\n",
       "    }\n",
       "\n",
       "    .dataframe tbody tr th {\n",
       "        vertical-align: top;\n",
       "    }\n",
       "\n",
       "    .dataframe thead th {\n",
       "        text-align: right;\n",
       "    }\n",
       "</style>\n",
       "<table border=\"1\" class=\"dataframe\">\n",
       "  <thead>\n",
       "    <tr style=\"text-align: right;\">\n",
       "      <th></th>\n",
       "      <th>StudentID</th>\n",
       "      <th>Age</th>\n",
       "      <th>Gender</th>\n",
       "      <th>Ethnicity</th>\n",
       "      <th>ParentalEducation</th>\n",
       "      <th>StudyTimeWeekly</th>\n",
       "      <th>Absences</th>\n",
       "      <th>Tutoring</th>\n",
       "      <th>ParentalSupport</th>\n",
       "      <th>Extracurricular</th>\n",
       "      <th>Sports</th>\n",
       "      <th>Music</th>\n",
       "      <th>Volunteering</th>\n",
       "      <th>GPA</th>\n",
       "      <th>GradeClass</th>\n",
       "    </tr>\n",
       "  </thead>\n",
       "  <tbody>\n",
       "    <tr>\n",
       "      <th>0</th>\n",
       "      <td>1001</td>\n",
       "      <td>17</td>\n",
       "      <td>1</td>\n",
       "      <td>0</td>\n",
       "      <td>2</td>\n",
       "      <td>19.833723</td>\n",
       "      <td>7</td>\n",
       "      <td>1</td>\n",
       "      <td>2</td>\n",
       "      <td>0</td>\n",
       "      <td>0</td>\n",
       "      <td>1</td>\n",
       "      <td>0</td>\n",
       "      <td>2.929196</td>\n",
       "      <td>2.0</td>\n",
       "    </tr>\n",
       "    <tr>\n",
       "      <th>1</th>\n",
       "      <td>1002</td>\n",
       "      <td>18</td>\n",
       "      <td>0</td>\n",
       "      <td>0</td>\n",
       "      <td>1</td>\n",
       "      <td>15.408756</td>\n",
       "      <td>0</td>\n",
       "      <td>0</td>\n",
       "      <td>1</td>\n",
       "      <td>0</td>\n",
       "      <td>0</td>\n",
       "      <td>0</td>\n",
       "      <td>0</td>\n",
       "      <td>3.042915</td>\n",
       "      <td>1.0</td>\n",
       "    </tr>\n",
       "    <tr>\n",
       "      <th>2</th>\n",
       "      <td>1003</td>\n",
       "      <td>15</td>\n",
       "      <td>0</td>\n",
       "      <td>2</td>\n",
       "      <td>3</td>\n",
       "      <td>4.210570</td>\n",
       "      <td>26</td>\n",
       "      <td>0</td>\n",
       "      <td>2</td>\n",
       "      <td>0</td>\n",
       "      <td>0</td>\n",
       "      <td>0</td>\n",
       "      <td>0</td>\n",
       "      <td>0.112602</td>\n",
       "      <td>4.0</td>\n",
       "    </tr>\n",
       "    <tr>\n",
       "      <th>3</th>\n",
       "      <td>1004</td>\n",
       "      <td>17</td>\n",
       "      <td>1</td>\n",
       "      <td>0</td>\n",
       "      <td>3</td>\n",
       "      <td>10.028829</td>\n",
       "      <td>14</td>\n",
       "      <td>0</td>\n",
       "      <td>3</td>\n",
       "      <td>1</td>\n",
       "      <td>0</td>\n",
       "      <td>0</td>\n",
       "      <td>0</td>\n",
       "      <td>2.054218</td>\n",
       "      <td>3.0</td>\n",
       "    </tr>\n",
       "    <tr>\n",
       "      <th>4</th>\n",
       "      <td>1005</td>\n",
       "      <td>17</td>\n",
       "      <td>1</td>\n",
       "      <td>0</td>\n",
       "      <td>2</td>\n",
       "      <td>4.672495</td>\n",
       "      <td>17</td>\n",
       "      <td>1</td>\n",
       "      <td>3</td>\n",
       "      <td>0</td>\n",
       "      <td>0</td>\n",
       "      <td>0</td>\n",
       "      <td>0</td>\n",
       "      <td>1.288061</td>\n",
       "      <td>4.0</td>\n",
       "    </tr>\n",
       "  </tbody>\n",
       "</table>\n",
       "</div>"
      ],
      "text/plain": [
       "   StudentID  Age  Gender  Ethnicity  ParentalEducation  StudyTimeWeekly  \\\n",
       "0       1001   17       1          0                  2        19.833723   \n",
       "1       1002   18       0          0                  1        15.408756   \n",
       "2       1003   15       0          2                  3         4.210570   \n",
       "3       1004   17       1          0                  3        10.028829   \n",
       "4       1005   17       1          0                  2         4.672495   \n",
       "\n",
       "   Absences  Tutoring  ParentalSupport  Extracurricular  Sports  Music  \\\n",
       "0         7         1                2                0       0      1   \n",
       "1         0         0                1                0       0      0   \n",
       "2        26         0                2                0       0      0   \n",
       "3        14         0                3                1       0      0   \n",
       "4        17         1                3                0       0      0   \n",
       "\n",
       "   Volunteering       GPA  GradeClass  \n",
       "0             0  2.929196         2.0  \n",
       "1             0  3.042915         1.0  \n",
       "2             0  0.112602         4.0  \n",
       "3             0  2.054218         3.0  \n",
       "4             0  1.288061         4.0  "
      ]
     },
     "execution_count": 12,
     "metadata": {},
     "output_type": "execute_result"
    }
   ],
   "source": [
    "students_df = pd.read_csv('../datasets/students.csv')\n",
    "students_df.head()"
   ]
  },
  {
   "cell_type": "code",
   "execution_count": 13,
   "metadata": {},
   "outputs": [],
   "source": [
    "# get train test for students_df train is all attributes except the last one\n",
    "\n",
    "from sklearn.model_selection import train_test_split\n",
    "X = students_df.iloc[:, :-1]\n",
    "y = students_df.iloc[:, -1]\n",
    "X_train, X_test, y_train, y_test = train_test_split(X, y, test_size=0.2, random_state=42)\n",
    "\n",
    "# save the train (x and y) in a csv file\n",
    "students_train = pd.concat([X_train, y_train], axis=1)\n",
    "students_train.to_csv('../datasets/students_train.csv', index=False)\n",
    "\n",
    "# save the test (x only) in a csv file\n",
    "X_test.to_csv('../datasets/students_test.csv', index=False)\n",
    "\n"
   ]
  },
  {
   "cell_type": "markdown",
   "metadata": {},
   "source": [
    "# ML Classifiers"
   ]
  },
  {
   "cell_type": "markdown",
   "metadata": {},
   "source": [
    "## First, define encoders to process text"
   ]
  },
  {
   "cell_type": "code",
   "execution_count": 14,
   "metadata": {},
   "outputs": [
    {
     "name": "stderr",
     "output_type": "stream",
     "text": [
      "/Users/fabio.casati/.venvs/3new/lib/python3.9/site-packages/huggingface_hub/file_download.py:1132: FutureWarning: `resume_download` is deprecated and will be removed in version 1.0.0. Downloads always resume when possible. If you want to force a new download, use `force_download=True`.\n",
      "  warnings.warn(\n"
     ]
    }
   ],
   "source": [
    "# define encoders - first with a transformer model\n",
    "from sentence_transformers import SentenceTransformer\n",
    "# sentence_encoder = SentenceTransformer('bert-base-nli-mean-tokens')\n",
    "sentence_encoder = SentenceTransformer('sentence-transformers/all-mpnet-base-v2')\n",
    "\n",
    "# then with tf-idf\n",
    "from sklearn.feature_extraction.text import TfidfVectorizer\n",
    "tf_idf_encoder = TfidfVectorizer(max_features=1024, ngram_range=(1, 2))\n",
    "\n",
    "\n"
   ]
  },
  {
   "cell_type": "markdown",
   "metadata": {},
   "source": [
    "## Then, define classifiers"
   ]
  },
  {
   "cell_type": "code",
   "execution_count": 15,
   "metadata": {},
   "outputs": [],
   "source": [
    "# build a simple classifier to predict the category\n",
    "from sklearn.linear_model import LogisticRegression\n",
    "from sklearn.model_selection import train_test_split\n",
    "from sklearn.metrics import accuracy_score\n",
    "\n",
    "# define a random forest classifier\n",
    "from sklearn.ensemble import RandomForestClassifier\n",
    "rf = RandomForestClassifier(n_estimators=100, max_depth=2, random_state=0)\n",
    "\n",
    "# define a 2-hidden layers multiclass classifier in pytorch\n",
    "import torch\n",
    "import torch.nn as nn\n",
    "import torch.optim as optim\n",
    "from torch.utils.data import DataLoader, Dataset\n",
    "from sklearn.preprocessing import LabelEncoder\n",
    "from sklearn.model_selection import train_test_split\n",
    "from sklearn.metrics import accuracy_score\n",
    "\n",
    "\n",
    "\n",
    "def show_classifier_results(y_test, y_pred, sorted_y_values):\n",
    "    from sklearn.metrics import confusion_matrix, classification_report\n",
    "\n",
    "\n",
    "    # print accuracy, confusion matrix and classification report\n",
    "    print(f'Accuracy: {accuracy_score(y_test, y_pred)}')\n",
    "    print(f'Confusion matrix: {confusion_matrix(y_test, y_pred)}')\n",
    "    print(f'Classification report: {classification_report(y_test, y_pred)}')\n",
    "\n",
    "    # plot the confusion matrix, and out legend on what are rows and columns. which is the predicted and which is the true label \n",
    "    #     \n",
    "    import seaborn as sns\n",
    "    cm = confusion_matrix(y_test, y_pred)\n",
    "    plt.figure(figsize=(10, 8))\n",
    "    sns.heatmap(cm, annot=True, fmt='d', cmap='Blues',\n",
    "                xticklabels=sorted_y_values,\n",
    "                yticklabels=sorted_y_values)\n",
    "    plt.title('Confusion Matrix')\n",
    "    plt.ylabel('True Label')\n",
    "    plt.xlabel('Predicted Label')\n",
    "    plt.show()\n",
    "\n",
    "\n",
    "\n",
    "\n",
    "class MLP(nn.Module):\n",
    "    def __init__(self, input_size, hidden_size, num_classes):\n",
    "        super(MLP, self).__init__()\n",
    "        self.fc1 = nn.Linear(input_size, hidden_size)\n",
    "        self.relu = nn.ReLU()\n",
    "        self.fc2 = nn.Linear(hidden_size, num_classes)\n",
    "    \n",
    "    def forward(self, x):\n",
    "        out = self.fc1(x)\n",
    "        out = self.relu(out)\n",
    "        out = self.fc2(out)\n",
    "        return out\n",
    "    \n",
    "\n",
    "class TextDataset(Dataset):\n",
    "    def __init__(self, X, y):\n",
    "        self.X = X\n",
    "        self.y = y\n",
    "        \n",
    "    def __len__(self):\n",
    "        return len(self.X)\n",
    "    \n",
    "    def __getitem__(self, idx):\n",
    "        return self.X[idx], self.y[idx]\n",
    "    \n",
    "def train_mlp(X_train, y_train, hidden_size=256, epochs=10, lr=0.0001):\n",
    "    # le = LabelEncoder()\n",
    "    # y = le.fit_transform(y)\n",
    "    # X_train, X_test, y_train, y_test = train_test_split(X, y, test_size=0.2, random_state=42)\n",
    "    # X_train = tf_idf_encoder.fit_transform(X_train)\n",
    "    # X_test = tf_idf_encoder.transform(X_test)\n",
    "    num_classes = len(np.unique(y_train))\n",
    "\n",
    "\n",
    "    train_dataset = TextDataset(X_train, y_train)   \n",
    "\n",
    "    train_loader = DataLoader(train_dataset, batch_size=32, shuffle=True)\n",
    "    model = MLP(X_train.shape[1], hidden_size, num_classes)\n",
    "    criterion = nn.CrossEntropyLoss()\n",
    "    optimizer = optim.Adam(model.parameters(), lr=lr)\n",
    "    for epoch in range(epochs):\n",
    "        for i, (data, labels) in enumerate(train_loader):\n",
    "            optimizer.zero_grad()\n",
    "            outputs = model(data.float())\n",
    "            loss = criterion(outputs, labels)\n",
    "            loss.backward()\n",
    "            optimizer.step()\n",
    "        print(f'Epoch {epoch+1}/{epochs}, Loss: {loss.item()}')\n",
    "    return model\n",
    "\n",
    "def predict_mlp(model, X_encoded):\n",
    "    # X = tf_idf_encoder.transform(X)\n",
    "    outputs = model(torch.tensor(X_encoded).float())\n",
    "    _, predicted = torch.max(outputs, 1)\n",
    "    return predicted.numpy()\n",
    "\n"
   ]
  },
  {
   "cell_type": "markdown",
   "metadata": {},
   "source": [
    "## Train classifiers"
   ]
  },
  {
   "cell_type": "code",
   "execution_count": 16,
   "metadata": {},
   "outputs": [
    {
     "name": "stdout",
     "output_type": "stream",
     "text": [
      "y mapping: 0      2\n",
      "1      2\n",
      "2      2\n",
      "3      2\n",
      "4      2\n",
      "      ..\n",
      "113    6\n",
      "114    6\n",
      "115    6\n",
      "116    6\n",
      "117    6\n",
      "Name: Category, Length: 118, dtype: int64\n",
      "Accuracy: 0.58\n",
      "Confusion matrix: [[2 0 0 0 0 1 0 0 0 1]\n",
      " [0 4 1 0 1 0 0 0 0 0]\n",
      " [0 0 6 0 0 0 0 0 0 1]\n",
      " [0 0 0 0 1 0 0 0 0 0]\n",
      " [1 0 1 0 0 0 0 0 0 2]\n",
      " [0 0 0 0 0 2 0 0 0 3]\n",
      " [1 0 0 0 0 0 3 0 0 1]\n",
      " [0 0 0 0 0 0 0 0 0 5]\n",
      " [0 0 0 0 0 0 0 0 4 0]\n",
      " [0 0 1 0 0 0 0 0 0 8]]\n",
      "Classification report:               precision    recall  f1-score   support\n",
      "\n",
      "           0       0.50      0.50      0.50         4\n",
      "           1       1.00      0.67      0.80         6\n",
      "           2       0.67      0.86      0.75         7\n",
      "           3       0.00      0.00      0.00         1\n",
      "           4       0.00      0.00      0.00         4\n",
      "           5       0.67      0.40      0.50         5\n",
      "           6       1.00      0.60      0.75         5\n",
      "           7       0.00      0.00      0.00         5\n",
      "           8       1.00      1.00      1.00         4\n",
      "           9       0.38      0.89      0.53         9\n",
      "\n",
      "    accuracy                           0.58        50\n",
      "   macro avg       0.52      0.49      0.48        50\n",
      "weighted avg       0.57      0.58      0.54        50\n",
      "\n"
     ]
    },
    {
     "name": "stderr",
     "output_type": "stream",
     "text": [
      "/Users/fabio.casati/.venvs/3new/lib/python3.9/site-packages/sklearn/metrics/_classification.py:1509: UndefinedMetricWarning: Precision is ill-defined and being set to 0.0 in labels with no predicted samples. Use `zero_division` parameter to control this behavior.\n",
      "  _warn_prf(average, modifier, f\"{metric.capitalize()} is\", len(result))\n",
      "/Users/fabio.casati/.venvs/3new/lib/python3.9/site-packages/sklearn/metrics/_classification.py:1509: UndefinedMetricWarning: Precision is ill-defined and being set to 0.0 in labels with no predicted samples. Use `zero_division` parameter to control this behavior.\n",
      "  _warn_prf(average, modifier, f\"{metric.capitalize()} is\", len(result))\n",
      "/Users/fabio.casati/.venvs/3new/lib/python3.9/site-packages/sklearn/metrics/_classification.py:1509: UndefinedMetricWarning: Precision is ill-defined and being set to 0.0 in labels with no predicted samples. Use `zero_division` parameter to control this behavior.\n",
      "  _warn_prf(average, modifier, f\"{metric.capitalize()} is\", len(result))\n"
     ]
    },
    {
     "data": {
      "image/png": "[encoded data removed]",
      "text/plain": [
       "<Figure size 1000x800 with 2 Axes>"
      ]
     },
     "metadata": {},
     "output_type": "display_data"
    }
   ],
   "source": [
    "# for each dataset, encoder and classifier, train\n",
    "# and predict the category\n",
    "\n",
    "# itsm dataset, sentence transformer and logistic regression\n",
    "X = itsm_df_focused['Text'].astype(str).fillna('EMPTY').values\n",
    "y = itsm_df_focused['Category'].fillna('EMPTY')\n",
    "\n",
    "sorted_y_values = sorted(y.unique())\n",
    "y_int = y.map({val: i for i, val in enumerate(sorted_y_values)})\n",
    "print(f'y mapping: {y_int}')\n",
    "\n",
    "y_mapped = y_int.values\n",
    "\n",
    "# do a stratified split with 30 test examples\n",
    "X_train, X_test, y_train, y_test = train_test_split(X, y_mapped, test_size=50, random_state=42, stratify=y_mapped)\n",
    "\n",
    "# X_train, X_test, y_train, y_test = train_test_split(X, y, test_size=30, random_state=42, stratify=y)\n",
    "X_train_encoded = sentence_encoder.encode(X_train)\n",
    "X_test_encoded = sentence_encoder.encode(X_test)\n",
    "classifier = LogisticRegression()\n",
    "classifier.fit(X_train_encoded, y_train)\n",
    "y_pred = classifier.predict(X_test_encoded)\n",
    "\n",
    "\n",
    "\n",
    "\n",
    "show_classifier_results(y_test, y_pred, sorted_y_values)\n"
   ]
  },
  {
   "cell_type": "markdown",
   "metadata": {},
   "source": [
    "## Classifier for yt dataset\n"
   ]
  },
  {
   "cell_type": "code",
   "execution_count": 17,
   "metadata": {},
   "outputs": [
    {
     "data": {
      "text/plain": [
       "(                                             Comment Sentiment\n",
       " 0  lets not forget that apple pay in 2014 require...   neutral\n",
       " 1  here in nz 50 of retailers don’t even have con...  negative\n",
       " 2  i will forever acknowledge this channel with t...  positive\n",
       " 3  whenever i go to a place that doesn’t take app...  negative\n",
       " 4  apple pay is so convenient secure and easy to ...  positive,\n",
       " (18408, 2))"
      ]
     },
     "execution_count": 17,
     "metadata": {},
     "output_type": "execute_result"
    }
   ],
   "source": [
    "# use the sentence transformer to encode the text\n",
    "yt_df.head(), yt_df.shape"
   ]
  },
  {
   "cell_type": "code",
   "execution_count": 18,
   "metadata": {},
   "outputs": [
    {
     "name": "stdout",
     "output_type": "stream",
     "text": [
      "lets not forget that apple pay in 2014 required a brand new iphone in order to\n",
      "use it a significant portion of apples user base wasnt able to use it even if\n",
      "they wanted to as each successive iphone incorporated the technology and older\n",
      "iphones were replaced the number of people who could use the technology\n",
      "increased\n",
      "Category: neutral\n",
      "\n",
      "here in nz 50 of retailers don’t even have contactless credit card machines like\n",
      "paywave which support apple pay they don’t like the high fees that come with\n",
      "these\n",
      "Category: negative\n",
      "\n",
      "i will forever acknowledge this channel with the help of your lessons and ideas\n",
      "explanations now its quite helpful while youll just sit at your comfort and\n",
      "monitor your account growth\n",
      "Category: positive\n",
      "\n",
      "whenever i go to a place that doesn’t take apple pay doesn’t happen too often\n",
      "it’s such a drag between ‘contactless covid’ habits and my getting the apple\n",
      "card i’ve gotten so used to apple pay that i get seriously annoyed when a store\n",
      "doesn’t take it it feels like a shock it’s crazy how quickly it took over my\n",
      "shopping routine i’ve officially been brainwashed by apple because now it feels\n",
      "so inconvenient to even carry a physical card in my pocket\n",
      "Category: negative\n",
      "\n",
      "apple pay is so convenient secure and easy to use i used it while at the korean\n",
      "and japanese airports no need for physical credit cards\n",
      "Category: positive\n",
      "\n",
      "we’ve been hounding my bank to adopt apple pay i understand why they don’t want\n",
      "to do it with the extra fees but its just so easy and quick at the checkout\n",
      "Category: neutral\n",
      "\n",
      "we only got apple pay in south africa in 20202021 and it’s widely accepted\n",
      "Category: positive\n",
      "\n",
      "for now i need both apple pay and the physical credit card\n",
      "Category: neutral\n",
      "\n",
      "in the united states we have an abundance of retailers that accept apple pay but\n",
      "its still good to carry the physical card with you being there are still a large\n",
      "quantity of places that do not accept apple pay\n",
      "Category: positive\n",
      "\n",
      "in cambodia we have a universal qr code system we scan and send money back and\n",
      "forth all banks take no profit from merchant they receive 100 of the payment a\n",
      "lot of stores and supermarkets start abandon pos machine all together\n",
      "Category: neutral\n",
      "\n"
     ]
    }
   ],
   "source": [
    "import textwrap\n",
    "for i in range(10):\n",
    "    # print(f'Comment {i}: {yt_df.iloc[i, 0]}')\n",
    "    print(textwrap.fill(yt_df.iloc[i, 0], 80))\n",
    "    print(f'Category: {yt_df.iloc[i, 1]}')\n",
    "    print('')\n"
   ]
  },
  {
   "cell_type": "markdown",
   "metadata": {},
   "source": [
    "### Sentence encoder, Logreg\n"
   ]
  },
  {
   "cell_type": "code",
   "execution_count": 19,
   "metadata": {},
   "outputs": [
    {
     "name": "stdout",
     "output_type": "stream",
     "text": [
      "X.shape: (18408,), y.shape: (18408,)\n",
      "possible y values: ['negative', 'neutral', 'positive']\n",
      "y mapping: 0        1\n",
      "1        0\n",
      "2        2\n",
      "3        0\n",
      "4        2\n",
      "        ..\n",
      "18403    2\n",
      "18404    2\n",
      "18405    1\n",
      "18406    2\n",
      "18407    2\n",
      "Name: Sentiment, Length: 18408, dtype: int64\n",
      "X_train.shape: (17908,), X_test.shape: (500,), y_train.shape: (17908,), y_test.shape: (500,)\n"
     ]
    }
   ],
   "source": [
    "# select the text and category columns\n",
    "X = yt_df['Comment'].astype(str).fillna('EMPTY').values\n",
    "y = yt_df['Sentiment'].fillna('EMPTY')\n",
    "print(f'X.shape: {X.shape}, y.shape: {y.shape}' )\n",
    "\n",
    "# show possible y values, sorted\n",
    "sorted_y_values = sorted(y.unique())\n",
    "print(f'possible y values: {sorted_y_values}')\n",
    "\n",
    "# map y values to int\n",
    "y_int = y.map({val: i for i, val in enumerate(sorted_y_values)})\n",
    "print(f'y mapping: {y_int}')\n",
    "\n",
    "y_mapped = y_int.values\n",
    "\n",
    "\n",
    "# do a stratified split with 30 test examples\n",
    "X_train, X_test, y_train, y_test = train_test_split(X, y_mapped, test_size=500, random_state=42, stratify=y_mapped)\n",
    "print(f'X_train.shape: {X_train.shape}, X_test.shape: {X_test.shape}, y_train.shape: {y_train.shape}, y_test.shape: {y_test.shape}')\n",
    "\n",
    "X_train_encoded = sentence_encoder.encode(X_train)\n",
    "X_test_encoded = sentence_encoder.encode(X_test)"
   ]
  },
  {
   "cell_type": "code",
   "execution_count": 20,
   "metadata": {},
   "outputs": [
    {
     "data": {
      "text/html": [
       "<style>#sk-container-id-1 {\n",
       "  /* Definition of color scheme common for light and dark mode */\n",
       "  --sklearn-color-text: black;\n",
       "  --sklearn-color-line: gray;\n",
       "  /* Definition of color scheme for unfitted estimators */\n",
       "  --sklearn-color-unfitted-level-0: #fff5e6;\n",
       "  --sklearn-color-unfitted-level-1: #f6e4d2;\n",
       "  --sklearn-color-unfitted-level-2: #ffe0b3;\n",
       "  --sklearn-color-unfitted-level-3: chocolate;\n",
       "  /* Definition of color scheme for fitted estimators */\n",
       "  --sklearn-color-fitted-level-0: #f0f8ff;\n",
       "  --sklearn-color-fitted-level-1: #d4ebff;\n",
       "  --sklearn-color-fitted-level-2: #b3dbfd;\n",
       "  --sklearn-color-fitted-level-3: cornflowerblue;\n",
       "\n",
       "  /* Specific color for light theme */\n",
       "  --sklearn-color-text-on-default-background: var(--sg-text-color, var(--theme-code-foreground, var(--jp-content-font-color1, black)));\n",
       "  --sklearn-color-background: var(--sg-background-color, var(--theme-background, var(--jp-layout-color0, white)));\n",
       "  --sklearn-color-border-box: var(--sg-text-color, var(--theme-code-foreground, var(--jp-content-font-color1, black)));\n",
       "  --sklearn-color-icon: #696969;\n",
       "\n",
       "  @media (prefers-color-scheme: dark) {\n",
       "    /* Redefinition of color scheme for dark theme */\n",
       "    --sklearn-color-text-on-default-background: var(--sg-text-color, var(--theme-code-foreground, var(--jp-content-font-color1, white)));\n",
       "    --sklearn-color-background: var(--sg-background-color, var(--theme-background, var(--jp-layout-color0, #111)));\n",
       "    --sklearn-color-border-box: var(--sg-text-color, var(--theme-code-foreground, var(--jp-content-font-color1, white)));\n",
       "    --sklearn-color-icon: #878787;\n",
       "  }\n",
       "}\n",
       "\n",
       "#sk-container-id-1 {\n",
       "  color: var(--sklearn-color-text);\n",
       "}\n",
       "\n",
       "#sk-container-id-1 pre {\n",
       "  padding: 0;\n",
       "}\n",
       "\n",
       "#sk-container-id-1 input.sk-hidden--visually {\n",
       "  border: 0;\n",
       "  clip: rect(1px 1px 1px 1px);\n",
       "  clip: rect(1px, 1px, 1px, 1px);\n",
       "  height: 1px;\n",
       "  margin: -1px;\n",
       "  overflow: hidden;\n",
       "  padding: 0;\n",
       "  position: absolute;\n",
       "  width: 1px;\n",
       "}\n",
       "\n",
       "#sk-container-id-1 div.sk-dashed-wrapped {\n",
       "  border: 1px dashed var(--sklearn-color-line);\n",
       "  margin: 0 0.4em 0.5em 0.4em;\n",
       "  box-sizing: border-box;\n",
       "  padding-bottom: 0.4em;\n",
       "  background-color: var(--sklearn-color-background);\n",
       "}\n",
       "\n",
       "#sk-container-id-1 div.sk-container {\n",
       "  /* jupyter's `normalize.less` sets `[hidden] { display: none; }`\n",
       "     but bootstrap.min.css set `[hidden] { display: none !important; }`\n",
       "     so we also need the `!important` here to be able to override the\n",
       "     default hidden behavior on the sphinx rendered scikit-learn.org.\n",
       "     See: https://github.com/scikit-learn/scikit-learn/issues/21755 */\n",
       "  display: inline-block !important;\n",
       "  position: relative;\n",
       "}\n",
       "\n",
       "#sk-container-id-1 div.sk-text-repr-fallback {\n",
       "  display: none;\n",
       "}\n",
       "\n",
       "div.sk-parallel-item,\n",
       "div.sk-serial,\n",
       "div.sk-item {\n",
       "  /* draw centered vertical line to link estimators */\n",
       "  background-image: linear-gradient(var(--sklearn-color-text-on-default-background), var(--sklearn-color-text-on-default-background));\n",
       "  background-size: 2px 100%;\n",
       "  background-repeat: no-repeat;\n",
       "  background-position: center center;\n",
       "}\n",
       "\n",
       "/* Parallel-specific style estimator block */\n",
       "\n",
       "#sk-container-id-1 div.sk-parallel-item::after {\n",
       "  content: \"\";\n",
       "  width: 100%;\n",
       "  border-bottom: 2px solid var(--sklearn-color-text-on-default-background);\n",
       "  flex-grow: 1;\n",
       "}\n",
       "\n",
       "#sk-container-id-1 div.sk-parallel {\n",
       "  display: flex;\n",
       "  align-items: stretch;\n",
       "  justify-content: center;\n",
       "  background-color: var(--sklearn-color-background);\n",
       "  position: relative;\n",
       "}\n",
       "\n",
       "#sk-container-id-1 div.sk-parallel-item {\n",
       "  display: flex;\n",
       "  flex-direction: column;\n",
       "}\n",
       "\n",
       "#sk-container-id-1 div.sk-parallel-item:first-child::after {\n",
       "  align-self: flex-end;\n",
       "  width: 50%;\n",
       "}\n",
       "\n",
       "#sk-container-id-1 div.sk-parallel-item:last-child::after {\n",
       "  align-self: flex-start;\n",
       "  width: 50%;\n",
       "}\n",
       "\n",
       "#sk-container-id-1 div.sk-parallel-item:only-child::after {\n",
       "  width: 0;\n",
       "}\n",
       "\n",
       "/* Serial-specific style estimator block */\n",
       "\n",
       "#sk-container-id-1 div.sk-serial {\n",
       "  display: flex;\n",
       "  flex-direction: column;\n",
       "  align-items: center;\n",
       "  background-color: var(--sklearn-color-background);\n",
       "  padding-right: 1em;\n",
       "  padding-left: 1em;\n",
       "}\n",
       "\n",
       "\n",
       "/* Toggleable style: style used for estimator/Pipeline/ColumnTransformer box that is\n",
       "clickable and can be expanded/collapsed.\n",
       "- Pipeline and ColumnTransformer use this feature and define the default style\n",
       "- Estimators will overwrite some part of the style using the `sk-estimator` class\n",
       "*/\n",
       "\n",
       "/* Pipeline and ColumnTransformer style (default) */\n",
       "\n",
       "#sk-container-id-1 div.sk-toggleable {\n",
       "  /* Default theme specific background. It is overwritten whether we have a\n",
       "  specific estimator or a Pipeline/ColumnTransformer */\n",
       "  background-color: var(--sklearn-color-background);\n",
       "}\n",
       "\n",
       "/* Toggleable label */\n",
       "#sk-container-id-1 label.sk-toggleable__label {\n",
       "  cursor: pointer;\n",
       "  display: block;\n",
       "  width: 100%;\n",
       "  margin-bottom: 0;\n",
       "  padding: 0.5em;\n",
       "  box-sizing: border-box;\n",
       "  text-align: center;\n",
       "}\n",
       "\n",
       "#sk-container-id-1 label.sk-toggleable__label-arrow:before {\n",
       "  /* Arrow on the left of the label */\n",
       "  content: \"▸\";\n",
       "  float: left;\n",
       "  margin-right: 0.25em;\n",
       "  color: var(--sklearn-color-icon);\n",
       "}\n",
       "\n",
       "#sk-container-id-1 label.sk-toggleable__label-arrow:hover:before {\n",
       "  color: var(--sklearn-color-text);\n",
       "}\n",
       "\n",
       "/* Toggleable content - dropdown */\n",
       "\n",
       "#sk-container-id-1 div.sk-toggleable__content {\n",
       "  max-height: 0;\n",
       "  max-width: 0;\n",
       "  overflow: hidden;\n",
       "  text-align: left;\n",
       "  /* unfitted */\n",
       "  background-color: var(--sklearn-color-unfitted-level-0);\n",
       "}\n",
       "\n",
       "#sk-container-id-1 div.sk-toggleable__content.fitted {\n",
       "  /* fitted */\n",
       "  background-color: var(--sklearn-color-fitted-level-0);\n",
       "}\n",
       "\n",
       "#sk-container-id-1 div.sk-toggleable__content pre {\n",
       "  margin: 0.2em;\n",
       "  border-radius: 0.25em;\n",
       "  color: var(--sklearn-color-text);\n",
       "  /* unfitted */\n",
       "  background-color: var(--sklearn-color-unfitted-level-0);\n",
       "}\n",
       "\n",
       "#sk-container-id-1 div.sk-toggleable__content.fitted pre {\n",
       "  /* unfitted */\n",
       "  background-color: var(--sklearn-color-fitted-level-0);\n",
       "}\n",
       "\n",
       "#sk-container-id-1 input.sk-toggleable__control:checked~div.sk-toggleable__content {\n",
       "  /* Expand drop-down */\n",
       "  max-height: 200px;\n",
       "  max-width: 100%;\n",
       "  overflow: auto;\n",
       "}\n",
       "\n",
       "#sk-container-id-1 input.sk-toggleable__control:checked~label.sk-toggleable__label-arrow:before {\n",
       "  content: \"▾\";\n",
       "}\n",
       "\n",
       "/* Pipeline/ColumnTransformer-specific style */\n",
       "\n",
       "#sk-container-id-1 div.sk-label input.sk-toggleable__control:checked~label.sk-toggleable__label {\n",
       "  color: var(--sklearn-color-text);\n",
       "  background-color: var(--sklearn-color-unfitted-level-2);\n",
       "}\n",
       "\n",
       "#sk-container-id-1 div.sk-label.fitted input.sk-toggleable__control:checked~label.sk-toggleable__label {\n",
       "  background-color: var(--sklearn-color-fitted-level-2);\n",
       "}\n",
       "\n",
       "/* Estimator-specific style */\n",
       "\n",
       "/* Colorize estimator box */\n",
       "#sk-container-id-1 div.sk-estimator input.sk-toggleable__control:checked~label.sk-toggleable__label {\n",
       "  /* unfitted */\n",
       "  background-color: var(--sklearn-color-unfitted-level-2);\n",
       "}\n",
       "\n",
       "#sk-container-id-1 div.sk-estimator.fitted input.sk-toggleable__control:checked~label.sk-toggleable__label {\n",
       "  /* fitted */\n",
       "  background-color: var(--sklearn-color-fitted-level-2);\n",
       "}\n",
       "\n",
       "#sk-container-id-1 div.sk-label label.sk-toggleable__label,\n",
       "#sk-container-id-1 div.sk-label label {\n",
       "  /* The background is the default theme color */\n",
       "  color: var(--sklearn-color-text-on-default-background);\n",
       "}\n",
       "\n",
       "/* On hover, darken the color of the background */\n",
       "#sk-container-id-1 div.sk-label:hover label.sk-toggleable__label {\n",
       "  color: var(--sklearn-color-text);\n",
       "  background-color: var(--sklearn-color-unfitted-level-2);\n",
       "}\n",
       "\n",
       "/* Label box, darken color on hover, fitted */\n",
       "#sk-container-id-1 div.sk-label.fitted:hover label.sk-toggleable__label.fitted {\n",
       "  color: var(--sklearn-color-text);\n",
       "  background-color: var(--sklearn-color-fitted-level-2);\n",
       "}\n",
       "\n",
       "/* Estimator label */\n",
       "\n",
       "#sk-container-id-1 div.sk-label label {\n",
       "  font-family: monospace;\n",
       "  font-weight: bold;\n",
       "  display: inline-block;\n",
       "  line-height: 1.2em;\n",
       "}\n",
       "\n",
       "#sk-container-id-1 div.sk-label-container {\n",
       "  text-align: center;\n",
       "}\n",
       "\n",
       "/* Estimator-specific */\n",
       "#sk-container-id-1 div.sk-estimator {\n",
       "  font-family: monospace;\n",
       "  border: 1px dotted var(--sklearn-color-border-box);\n",
       "  border-radius: 0.25em;\n",
       "  box-sizing: border-box;\n",
       "  margin-bottom: 0.5em;\n",
       "  /* unfitted */\n",
       "  background-color: var(--sklearn-color-unfitted-level-0);\n",
       "}\n",
       "\n",
       "#sk-container-id-1 div.sk-estimator.fitted {\n",
       "  /* fitted */\n",
       "  background-color: var(--sklearn-color-fitted-level-0);\n",
       "}\n",
       "\n",
       "/* on hover */\n",
       "#sk-container-id-1 div.sk-estimator:hover {\n",
       "  /* unfitted */\n",
       "  background-color: var(--sklearn-color-unfitted-level-2);\n",
       "}\n",
       "\n",
       "#sk-container-id-1 div.sk-estimator.fitted:hover {\n",
       "  /* fitted */\n",
       "  background-color: var(--sklearn-color-fitted-level-2);\n",
       "}\n",
       "\n",
       "/* Specification for estimator info (e.g. \"i\" and \"?\") */\n",
       "\n",
       "/* Common style for \"i\" and \"?\" */\n",
       "\n",
       ".sk-estimator-doc-link,\n",
       "a:link.sk-estimator-doc-link,\n",
       "a:visited.sk-estimator-doc-link {\n",
       "  float: right;\n",
       "  font-size: smaller;\n",
       "  line-height: 1em;\n",
       "  font-family: monospace;\n",
       "  background-color: var(--sklearn-color-background);\n",
       "  border-radius: 1em;\n",
       "  height: 1em;\n",
       "  width: 1em;\n",
       "  text-decoration: none !important;\n",
       "  margin-left: 1ex;\n",
       "  /* unfitted */\n",
       "  border: var(--sklearn-color-unfitted-level-1) 1pt solid;\n",
       "  color: var(--sklearn-color-unfitted-level-1);\n",
       "}\n",
       "\n",
       ".sk-estimator-doc-link.fitted,\n",
       "a:link.sk-estimator-doc-link.fitted,\n",
       "a:visited.sk-estimator-doc-link.fitted {\n",
       "  /* fitted */\n",
       "  border: var(--sklearn-color-fitted-level-1) 1pt solid;\n",
       "  color: var(--sklearn-color-fitted-level-1);\n",
       "}\n",
       "\n",
       "/* On hover */\n",
       "div.sk-estimator:hover .sk-estimator-doc-link:hover,\n",
       ".sk-estimator-doc-link:hover,\n",
       "div.sk-label-container:hover .sk-estimator-doc-link:hover,\n",
       ".sk-estimator-doc-link:hover {\n",
       "  /* unfitted */\n",
       "  background-color: var(--sklearn-color-unfitted-level-3);\n",
       "  color: var(--sklearn-color-background);\n",
       "  text-decoration: none;\n",
       "}\n",
       "\n",
       "div.sk-estimator.fitted:hover .sk-estimator-doc-link.fitted:hover,\n",
       ".sk-estimator-doc-link.fitted:hover,\n",
       "div.sk-label-container:hover .sk-estimator-doc-link.fitted:hover,\n",
       ".sk-estimator-doc-link.fitted:hover {\n",
       "  /* fitted */\n",
       "  background-color: var(--sklearn-color-fitted-level-3);\n",
       "  color: var(--sklearn-color-background);\n",
       "  text-decoration: none;\n",
       "}\n",
       "\n",
       "/* Span, style for the box shown on hovering the info icon */\n",
       ".sk-estimator-doc-link span {\n",
       "  display: none;\n",
       "  z-index: 9999;\n",
       "  position: relative;\n",
       "  font-weight: normal;\n",
       "  right: .2ex;\n",
       "  padding: .5ex;\n",
       "  margin: .5ex;\n",
       "  width: min-content;\n",
       "  min-width: 20ex;\n",
       "  max-width: 50ex;\n",
       "  color: var(--sklearn-color-text);\n",
       "  box-shadow: 2pt 2pt 4pt #999;\n",
       "  /* unfitted */\n",
       "  background: var(--sklearn-color-unfitted-level-0);\n",
       "  border: .5pt solid var(--sklearn-color-unfitted-level-3);\n",
       "}\n",
       "\n",
       ".sk-estimator-doc-link.fitted span {\n",
       "  /* fitted */\n",
       "  background: var(--sklearn-color-fitted-level-0);\n",
       "  border: var(--sklearn-color-fitted-level-3);\n",
       "}\n",
       "\n",
       ".sk-estimator-doc-link:hover span {\n",
       "  display: block;\n",
       "}\n",
       "\n",
       "/* \"?\"-specific style due to the `<a>` HTML tag */\n",
       "\n",
       "#sk-container-id-1 a.estimator_doc_link {\n",
       "  float: right;\n",
       "  font-size: 1rem;\n",
       "  line-height: 1em;\n",
       "  font-family: monospace;\n",
       "  background-color: var(--sklearn-color-background);\n",
       "  border-radius: 1rem;\n",
       "  height: 1rem;\n",
       "  width: 1rem;\n",
       "  text-decoration: none;\n",
       "  /* unfitted */\n",
       "  color: var(--sklearn-color-unfitted-level-1);\n",
       "  border: var(--sklearn-color-unfitted-level-1) 1pt solid;\n",
       "}\n",
       "\n",
       "#sk-container-id-1 a.estimator_doc_link.fitted {\n",
       "  /* fitted */\n",
       "  border: var(--sklearn-color-fitted-level-1) 1pt solid;\n",
       "  color: var(--sklearn-color-fitted-level-1);\n",
       "}\n",
       "\n",
       "/* On hover */\n",
       "#sk-container-id-1 a.estimator_doc_link:hover {\n",
       "  /* unfitted */\n",
       "  background-color: var(--sklearn-color-unfitted-level-3);\n",
       "  color: var(--sklearn-color-background);\n",
       "  text-decoration: none;\n",
       "}\n",
       "\n",
       "#sk-container-id-1 a.estimator_doc_link.fitted:hover {\n",
       "  /* fitted */\n",
       "  background-color: var(--sklearn-color-fitted-level-3);\n",
       "}\n",
       "</style><div id=\"sk-container-id-1\" class=\"sk-top-container\"><div class=\"sk-text-repr-fallback\"><pre>LogisticRegression()</pre><b>In a Jupyter environment, please rerun this cell to show the HTML representation or trust the notebook. <br />On GitHub, the HTML representation is unable to render, please try loading this page with nbviewer.org.</b></div><div class=\"sk-container\" hidden><div class=\"sk-item\"><div class=\"sk-estimator fitted sk-toggleable\"><input class=\"sk-toggleable__control sk-hidden--visually\" id=\"sk-estimator-id-1\" type=\"checkbox\" checked><label for=\"sk-estimator-id-1\" class=\"sk-toggleable__label fitted sk-toggleable__label-arrow fitted\">&nbsp;&nbsp;LogisticRegression<a class=\"sk-estimator-doc-link fitted\" rel=\"noreferrer\" target=\"_blank\" href=\"https://scikit-learn.org/1.4/modules/generated/sklearn.linear_model.LogisticRegression.html\">?<span>Documentation for LogisticRegression</span></a><span class=\"sk-estimator-doc-link fitted\">i<span>Fitted</span></span></label><div class=\"sk-toggleable__content fitted\"><pre>LogisticRegression()</pre></div> </div></div></div></div>"
      ],
      "text/plain": [
       "LogisticRegression()"
      ]
     },
     "execution_count": 20,
     "metadata": {},
     "output_type": "execute_result"
    }
   ],
   "source": [
    "classifier = LogisticRegression()\n",
    "classifier.fit(X_train_encoded, y_train)"
   ]
  },
  {
   "cell_type": "code",
   "execution_count": 21,
   "metadata": {},
   "outputs": [
    {
     "name": "stdout",
     "output_type": "stream",
     "text": [
      "possible y values: ['negative', 'neutral', 'positive']\n",
      "y_train distribution: [ 2275  4512 11121]\n",
      "y_test distribution: [ 63 126 311]\n",
      "Accuracy: 0.774\n",
      "Confusion matrix: [[ 34  19  10]\n",
      " [ 13  78  35]\n",
      " [  6  30 275]]\n",
      "Classification report:               precision    recall  f1-score   support\n",
      "\n",
      "           0       0.64      0.54      0.59        63\n",
      "           1       0.61      0.62      0.62       126\n",
      "           2       0.86      0.88      0.87       311\n",
      "\n",
      "    accuracy                           0.77       500\n",
      "   macro avg       0.71      0.68      0.69       500\n",
      "weighted avg       0.77      0.77      0.77       500\n",
      "\n"
     ]
    },
    {
     "data": {
      "image/png": "[encoded data removed]",
      "text/plain": [
       "<Figure size 1000x800 with 2 Axes>"
      ]
     },
     "metadata": {},
     "output_type": "display_data"
    }
   ],
   "source": [
    "\n",
    "print(f'possible y values: {sorted_y_values}')\n",
    "y_pred = classifier.predict(X_test_encoded)\n",
    "print(f'y_train distribution: {np.bincount(y_train)}')\n",
    "print(f'y_test distribution: {np.bincount(y_test)}')\n",
    "show_classifier_results(y_test, y_pred, sorted_y_values)\n",
    "\n",
    "\n"
   ]
  },
  {
   "cell_type": "markdown",
   "metadata": {},
   "source": [
    "### Sentence encoder, MLP"
   ]
  },
  {
   "cell_type": "code",
   "execution_count": 22,
   "metadata": {},
   "outputs": [
    {
     "name": "stdout",
     "output_type": "stream",
     "text": [
      "Epoch 1/10, Loss: 0.5930528044700623\n",
      "Epoch 2/10, Loss: 0.4967350959777832\n",
      "Epoch 3/10, Loss: 0.30091896653175354\n",
      "Epoch 4/10, Loss: 0.611718475818634\n",
      "Epoch 5/10, Loss: 0.5727651715278625\n",
      "Epoch 6/10, Loss: 0.42822471261024475\n",
      "Epoch 7/10, Loss: 0.2828018367290497\n",
      "Epoch 8/10, Loss: 0.5118206143379211\n",
      "Epoch 9/10, Loss: 0.397352397441864\n",
      "Epoch 10/10, Loss: 0.5389403700828552\n"
     ]
    }
   ],
   "source": [
    "# train a MLP classifier\n",
    "\n",
    "mlp_model = train_mlp(X_train_encoded, y_train)\n",
    "\n",
    "\n",
    "\n",
    "\n"
   ]
  },
  {
   "cell_type": "code",
   "execution_count": 23,
   "metadata": {},
   "outputs": [
    {
     "name": "stdout",
     "output_type": "stream",
     "text": [
      "Accuracy: 0.792\n",
      "Confusion matrix: [[ 36  18   9]\n",
      " [  9  86  31]\n",
      " [  5  32 274]]\n",
      "Classification report:               precision    recall  f1-score   support\n",
      "\n",
      "           0       0.72      0.57      0.64        63\n",
      "           1       0.63      0.68      0.66       126\n",
      "           2       0.87      0.88      0.88       311\n",
      "\n",
      "    accuracy                           0.79       500\n",
      "   macro avg       0.74      0.71      0.72       500\n",
      "weighted avg       0.79      0.79      0.79       500\n",
      "\n"
     ]
    },
    {
     "data": {
      "image/png": "[encoded data removed]",
      "text/plain": [
       "<Figure size 1000x800 with 2 Axes>"
      ]
     },
     "metadata": {},
     "output_type": "display_data"
    }
   ],
   "source": [
    "# test MLP classifier\n",
    "y_pred = predict_mlp(mlp_model, X_test_encoded)\n",
    "show_classifier_results(y_test, y_pred, sorted_y_values)\n",
    "\n",
    "\n",
    "\n"
   ]
  },
  {
   "cell_type": "markdown",
   "metadata": {},
   "source": [
    "## Same, but with tf-idf"
   ]
  },
  {
   "cell_type": "code",
   "execution_count": 24,
   "metadata": {},
   "outputs": [],
   "source": [
    "# encode the text with tf-idf\n",
    "X_train_tfidf = tf_idf_encoder.fit_transform(X_train)\n",
    "X_test_tfidf = tf_idf_encoder.transform(X_test)\n",
    "\n",
    "\n"
   ]
  },
  {
   "cell_type": "code",
   "execution_count": 25,
   "metadata": {},
   "outputs": [],
   "source": [
    "# type(X_train_tfidf)#.shape, X_test_tfidf.shape\n",
    "# # convert to numpy\n",
    "X_train_tfidf = X_train_tfidf.toarray()\n",
    "X_test_tfidf = X_test_tfidf.toarray()\n"
   ]
  },
  {
   "cell_type": "code",
   "execution_count": 26,
   "metadata": {},
   "outputs": [
    {
     "name": "stdout",
     "output_type": "stream",
     "text": [
      "Accuracy: 0.742\n",
      "Confusion matrix: [[ 16  25  22]\n",
      " [  9  77  40]\n",
      " [  5  28 278]]\n",
      "Classification report:               precision    recall  f1-score   support\n",
      "\n",
      "           0       0.53      0.25      0.34        63\n",
      "           1       0.59      0.61      0.60       126\n",
      "           2       0.82      0.89      0.85       311\n",
      "\n",
      "    accuracy                           0.74       500\n",
      "   macro avg       0.65      0.59      0.60       500\n",
      "weighted avg       0.73      0.74      0.73       500\n",
      "\n"
     ]
    },
    {
     "data": {
      "image/png": "[encoded data removed]",
      "text/plain": [
       "<Figure size 1000x800 with 2 Axes>"
      ]
     },
     "metadata": {},
     "output_type": "display_data"
    }
   ],
   "source": [
    "# train a logistic regression classifier\n",
    "lr_classifier = LogisticRegression()\n",
    "lr_classifier.fit(X_train_tfidf, y_train)\n",
    "y_pred = lr_classifier.predict(X_test_tfidf)\n",
    "show_classifier_results(y_test, y_pred, sorted_y_values)\n",
    "\n"
   ]
  },
  {
   "cell_type": "code",
   "execution_count": 27,
   "metadata": {},
   "outputs": [
    {
     "name": "stdout",
     "output_type": "stream",
     "text": [
      "Epoch 1/10, Loss: 0.7110699415206909\n",
      "Epoch 2/10, Loss: 0.688111424446106\n",
      "Epoch 3/10, Loss: 0.6769195795059204\n",
      "Epoch 4/10, Loss: 0.5480508208274841\n",
      "Epoch 5/10, Loss: 0.8120903968811035\n",
      "Epoch 6/10, Loss: 0.5007117390632629\n",
      "Epoch 7/10, Loss: 0.6980260610580444\n",
      "Epoch 8/10, Loss: 0.6600497961044312\n",
      "Epoch 9/10, Loss: 0.4913746416568756\n",
      "Epoch 10/10, Loss: 0.5870431065559387\n"
     ]
    },
    {
     "ename": "TypeError",
     "evalue": "show_classifier_results() missing 1 required positional argument: 'sorted_y_values'",
     "output_type": "error",
     "traceback": [
      "\u001b[0;31m---------------------------------------------------------------------------\u001b[0m",
      "\u001b[0;31mTypeError\u001b[0m                                 Traceback (most recent call last)",
      "Cell \u001b[0;32mIn[27], line 4\u001b[0m\n\u001b[1;32m      2\u001b[0m mlp_classifier \u001b[38;5;241m=\u001b[39m train_mlp(X_train_tfidf, y_train)\n\u001b[1;32m      3\u001b[0m y_pred \u001b[38;5;241m=\u001b[39m predict_mlp(mlp_classifier, X_test_tfidf)\n\u001b[0;32m----> 4\u001b[0m \u001b[43mshow_classifier_results\u001b[49m\u001b[43m(\u001b[49m\u001b[43my_test\u001b[49m\u001b[43m,\u001b[49m\u001b[43m \u001b[49m\u001b[43my_pred\u001b[49m\u001b[43m)\u001b[49m\n",
      "\u001b[0;31mTypeError\u001b[0m: show_classifier_results() missing 1 required positional argument: 'sorted_y_values'"
     ]
    }
   ],
   "source": [
    "# same for MLP\n",
    "mlp_classifier = train_mlp(X_train_tfidf, y_train)\n",
    "y_pred = predict_mlp(mlp_classifier, X_test_tfidf)\n",
    "show_classifier_results(y_test, y_pred)\n",
    "\n",
    "\n",
    "\n",
    "\n"
   ]
  },
  {
   "cell_type": "markdown",
   "metadata": {},
   "source": [
    "## Lets take a look at the embeddings, and project them to 2D\n"
   ]
  },
  {
   "cell_type": "code",
   "execution_count": null,
   "metadata": {},
   "outputs": [
    {
     "name": "stderr",
     "output_type": "stream",
     "text": [
      "/Users/fabio.casati/.venvs/3new/lib/python3.9/site-packages/umap/umap_.py:1952: UserWarning: n_jobs value 1 overridden to 1 by setting random_state. Use no seed for parallelism.\n",
      "  warn(\n"
     ]
    },
    {
     "data": {
      "image/png": "[encoded data removed]",
      "text/plain": [
       "<Figure size 640x480 with 2 Axes>"
      ]
     },
     "metadata": {},
     "output_type": "display_data"
    }
   ],
   "source": [
    "import umap\n",
    "umap_model = umap.UMAP(n_components=2, random_state=42)\n",
    "X_train_tfidf_2d = umap_model.fit_transform(X_train_tfidf[:1000])\n",
    "# X_test_tfidf_2d = umap_model.transform(X_test_tfidf[:1000])\n",
    "\n",
    "# plot the embeddings\n",
    "import matplotlib.pyplot as plt\n",
    "plt.scatter(X_train_tfidf_2d[:, 0], X_train_tfidf_2d[:, 1], c=y_train[:1000], cmap='viridis')\n",
    "plt.colorbar()\n",
    "# plt.show()\n",
    "# create a caption for the plot, describe what the colors represent\n",
    "plt.title('UMAP of TF-IDF embeddings of ITSM requests')\n",
    "plt.xlabel('UMAP 1')\n",
    "plt.ylabel('UMAP 2')\n",
    "plt.show()\n"
   ]
  },
  {
   "cell_type": "code",
   "execution_count": null,
   "metadata": {},
   "outputs": [],
   "source": [
    "# import torch\n",
    "# from sentence_transformers import SentenceTransformer\n",
    "\n",
    "# # Each query needs to be accompanied by an corresponding instruction describing the task.\n",
    "# task_name_to_instruct = {\"example\": \"Classify the sentiment as positive, negative, neutral\",}\n",
    "\n",
    "# passage_prefix = \"Instruct: \"+task_name_to_instruct[\"example\"]+\"\\nQuery: \"\n",
    "\n",
    "# passages = X_train[:100]\n",
    "# # load model with tokenizer\n",
    "# nv_model = SentenceTransformer('nvidia/NV-Embed-v2', trust_remote_code=True)\n",
    "# nv_model.max_seq_length = 32768\n",
    "# nv_model.tokenizer.padding_side=\"right\"\n",
    "\n",
    "# def add_eos(input_examples):\n",
    "#   input_examples = [input_example + nv_model.tokenizer.eos_token for input_example in input_examples]\n",
    "#   return input_examples\n",
    "\n",
    "# # get the embeddings\n",
    "# batch_size = 2\n",
    "# # query_embeddings = model.encode(add_eos(queries), batch_size=batch_size, prompt=query_prefix, normalize_embeddings=True)\n",
    "# passage_embeddings = nv_model.encode(add_eos(passages), batch_size=batch_size,prompt=passage_prefix, normalize_embeddings=True)\n",
    "\n",
    "# # scores = (query_embeddings @ passage_embeddings.T) * 100\n",
    "# # print(scores.tolist())\n"
   ]
  },
  {
   "cell_type": "markdown",
   "metadata": {},
   "source": [
    "## OpenAI embeddings\n",
    "\n"
   ]
  },
  {
   "cell_type": "code",
   "execution_count": null,
   "metadata": {},
   "outputs": [],
   "source": [
    "from openai import OpenAI\n",
    "# get key from .env\n",
    "import os\n",
    "from dotenv import load_dotenv\n",
    "\n",
    "load_dotenv()\n",
    "OPENAI_API_KEY = os.getenv('OPENAI_API_KEY')\n",
    "client = OpenAI(api_key=OPENAI_API_KEY)\n",
    "\n",
    "prefix = \"Classify the sentiment of this text as POSITIVE, NEGATIVE, or NEUTRAL: \"\n",
    "\n",
    "# embed 100 of the sentences in X_train\n",
    "X_embeddings = []\n",
    "# sample 50 idx\n",
    "train_idx_sample = np.random.choice(len(X_train), 2000, replace=False)\n",
    "test_idx_sample = np.random.choice(len(X_test), 300, replace=False)\n",
    "\n",
    "X_train_sample = X_train[train_idx_sample]\n",
    "X_test_sample = X_test[test_idx_sample]\n",
    "y_train_sample = y_train[train_idx_sample]\n",
    "y_test_sample = y_test[test_idx_sample]\n",
    "\n",
    "for text in X_train_sample:\n",
    "    # response = client.embeddings.create()   \n",
    "    response = client.embeddings.create(\n",
    "        input=prefix + text,\n",
    "        # model=\"text-embedding-3-small\"\n",
    "        model = \"text-embedding-3-large\"\n",
    "    )\n",
    "    X_embeddings.append(response.data[0].embedding)\n",
    "\n",
    "X_train_embeddings = np.array(X_embeddings)\n",
    "\n",
    "for text in X_test_sample:\n",
    "    # response = client.embeddings.create()   \n",
    "    response = client.embeddings.create(\n",
    "        input=prefix + text,\n",
    "        # model=\"text-embedding-3-small\"\n",
    "        model = \"text-embedding-3-large\"\n",
    "    )\n",
    "    X_embeddings.append(response.data[0].embedding)\n",
    "\n",
    "\n"
   ]
  },
  {
   "cell_type": "code",
   "execution_count": null,
   "metadata": {},
   "outputs": [],
   "source": [
    "# save embeddings to file\n",
    "# np.save('../datasets/X_train_embeddings.npy', X_train_embeddings)\n",
    "# np.save('../datasets/X_test_embeddings.npy', X_test_embeddings)\n",
    "# X_train_embeddings = np.load('../datasets/X_train_embeddings.npy')\n",
    "# X_test_embeddings = np.load('../datasets/X_test_embeddings.npy')\n"
   ]
  },
  {
   "cell_type": "code",
   "execution_count": null,
   "metadata": {},
   "outputs": [
    {
     "ename": "NameError",
     "evalue": "name 'y_train_sample' is not defined",
     "output_type": "error",
     "traceback": [
      "\u001b[0;31m---------------------------------------------------------------------------\u001b[0m",
      "\u001b[0;31mNameError\u001b[0m                                 Traceback (most recent call last)",
      "Cell \u001b[0;32mIn[32], line 30\u001b[0m\n\u001b[1;32m     27\u001b[0m X_embeddings_5 \u001b[38;5;241m=\u001b[39m X_train_embeddings[:, :\u001b[38;5;241m5\u001b[39m]\n\u001b[1;32m     28\u001b[0m X_embeddings_5_norm \u001b[38;5;241m=\u001b[39m normalize_l2(X_embeddings_5)\n\u001b[0;32m---> 30\u001b[0m y_train_sample \u001b[38;5;241m=\u001b[39m \u001b[43my_train_sample\u001b[49m\u001b[38;5;241m.\u001b[39mastype(\u001b[38;5;28mint\u001b[39m)\n",
      "\u001b[0;31mNameError\u001b[0m: name 'y_train_sample' is not defined"
     ]
    }
   ],
   "source": [
    "from openai import OpenAI\n",
    "import numpy as np\n",
    "\n",
    "# client = OpenAI()\n",
    "\n",
    "def normalize_l2(x):\n",
    "    x = np.array(x)\n",
    "    if x.ndim == 1:\n",
    "        norm = np.linalg.norm(x)\n",
    "        if norm == 0:\n",
    "            return x\n",
    "        return x / norm\n",
    "    else:\n",
    "        norm = np.linalg.norm(x, 2, axis=1, keepdims=True)\n",
    "        return np.where(norm == 0, x, x / norm)\n",
    "\n",
    "\n",
    "# response = client.embeddings.create(\n",
    "#     model=\"text-embedding-3-small\", input=\"Testing 123\", encoding_format=\"float\"\n",
    "# )\n",
    "\n",
    "# reduce embedding to 256 dimensions\n",
    "\n",
    "x_embeddings_256 = X_train_embeddings[:, :256]\n",
    "X_embeddings_256_norm = normalize_l2(x_embeddings_256)\n",
    "\n",
    "X_embeddings_5 = X_train_embeddings[:, :5]\n",
    "X_embeddings_5_norm = normalize_l2(X_embeddings_5)\n",
    "\n",
    "# y_train_sample = y_train_sample.astype(int)\n",
    "\n"
   ]
  },
  {
   "cell_type": "code",
   "execution_count": null,
   "metadata": {},
   "outputs": [
    {
     "name": "stderr",
     "output_type": "stream",
     "text": [
      "/Users/fabio.casati/.venvs/3new/lib/python3.9/site-packages/umap/umap_.py:1952: UserWarning: n_jobs value 1 overridden to 1 by setting random_state. Use no seed for parallelism.\n",
      "  warn(\n"
     ]
    },
    {
     "ename": "NameError",
     "evalue": "name 'y_train_sample' is not defined",
     "output_type": "error",
     "traceback": [
      "\u001b[0;31m---------------------------------------------------------------------------\u001b[0m",
      "\u001b[0;31mNameError\u001b[0m                                 Traceback (most recent call last)",
      "Cell \u001b[0;32mIn[33], line 11\u001b[0m\n\u001b[1;32m      6\u001b[0m \u001b[38;5;66;03m# X_train_tfidf_2d = umap_model.fit_transform(X_train_tfidf[:1000])\u001b[39;00m\n\u001b[1;32m      7\u001b[0m \n\u001b[1;32m      8\u001b[0m \n\u001b[1;32m      9\u001b[0m \u001b[38;5;66;03m# plot the embeddings\u001b[39;00m\n\u001b[1;32m     10\u001b[0m \u001b[38;5;28;01mimport\u001b[39;00m \u001b[38;5;21;01mmatplotlib\u001b[39;00m\u001b[38;5;21;01m.\u001b[39;00m\u001b[38;5;21;01mpyplot\u001b[39;00m \u001b[38;5;28;01mas\u001b[39;00m \u001b[38;5;21;01mplt\u001b[39;00m\n\u001b[0;32m---> 11\u001b[0m plt\u001b[38;5;241m.\u001b[39mscatter(X_train_encoded_2d[:, \u001b[38;5;241m0\u001b[39m], X_train_encoded_2d[:, \u001b[38;5;241m1\u001b[39m], c\u001b[38;5;241m=\u001b[39m\u001b[43my_train_sample\u001b[49m, cmap\u001b[38;5;241m=\u001b[39m\u001b[38;5;124m'\u001b[39m\u001b[38;5;124mviridis\u001b[39m\u001b[38;5;124m'\u001b[39m)\n\u001b[1;32m     12\u001b[0m plt\u001b[38;5;241m.\u001b[39mcolorbar()\n\u001b[1;32m     13\u001b[0m plt\u001b[38;5;241m.\u001b[39mshow()\n",
      "\u001b[0;31mNameError\u001b[0m: name 'y_train_sample' is not defined"
     ]
    }
   ],
   "source": [
    "# plot the embeddings as above, first with umap\n",
    "# show the same but for the sentence transformer embeddings\n",
    "import umap\n",
    "umap_model = umap.UMAP(n_components=2, random_state=42)\n",
    "X_train_encoded_2d = umap_model.fit_transform(X_embeddings_5)\n",
    "# X_train_tfidf_2d = umap_model.fit_transform(X_train_tfidf[:1000])\n",
    "\n",
    "\n",
    "# plot the embeddings\n",
    "import matplotlib.pyplot as plt\n",
    "plt.scatter(X_train_encoded_2d[:, 0], X_train_encoded_2d[:, 1], c=y_train_sample, cmap='viridis')\n",
    "plt.colorbar()\n",
    "plt.show()\n",
    "\n"
   ]
  },
  {
   "cell_type": "markdown",
   "metadata": {},
   "source": [
    "## Nvidia embeddings"
   ]
  },
  {
   "cell_type": "code",
   "execution_count": null,
   "metadata": {},
   "outputs": [
    {
     "name": "stderr",
     "output_type": "stream",
     "text": [
      "/Users/fabio.casati/.venvs/3new/lib/python3.9/site-packages/urllib3/__init__.py:35: NotOpenSSLWarning: urllib3 v2 only supports OpenSSL 1.1.1+, currently the 'ssl' module is compiled with 'LibreSSL 2.8.3'. See: https://github.com/urllib3/urllib3/issues/3020\n",
      "  warnings.warn(\n",
      "/Users/fabio.casati/.venvs/3new/lib/python3.9/site-packages/huggingface_hub/file_download.py:1132: FutureWarning: `resume_download` is deprecated and will be removed in version 1.0.0. Downloads always resume when possible. If you want to force a new download, use `force_download=True`.\n",
      "  warnings.warn(\n"
     ]
    },
    {
     "data": {
      "application/vnd.jupyter.widget-view+json": {
       "model_id": "06ceb472740a4e458e124741aadaf50a",
       "version_major": 2,
       "version_minor": 0
      },
      "text/plain": [
       "Loading checkpoint shards:   0%|          | 0/4 [00:00<?, ?it/s]"
      ]
     },
     "metadata": {},
     "output_type": "display_data"
    }
   ],
   "source": [
    "# from sentence_transformers import SentenceTransformer\n",
    "# sentence_encoder = SentenceTransformer('nvidia/NV-Embed-v2', trust_remote_code=True)\n",
    "# sentence_encoder.max_seq_length = 756# 32768\n",
    "# sentence_encoder.tokenizer.padding_side=\"right\""
   ]
  },
  {
   "cell_type": "code",
   "execution_count": null,
   "metadata": {},
   "outputs": [
    {
     "name": "stdout",
     "output_type": "stream",
     "text": [
      "X.shape: (18408,), y.shape: (18408,)\n",
      "y mapping: 0        1\n",
      "1        0\n",
      "2        2\n",
      "3        0\n",
      "4        2\n",
      "        ..\n",
      "18403    2\n",
      "18404    2\n",
      "18405    1\n",
      "18406    2\n",
      "18407    2\n",
      "Name: Sentiment, Length: 18408, dtype: int64\n"
     ]
    }
   ],
   "source": [
    "# # use nvembed\n",
    "# X = yt_df['Comment'].astype(str).fillna('EMPTY').values\n",
    "# y = yt_df['Sentiment'].fillna('EMPTY')\n",
    "# print(f'X.shape: {X.shape}, y.shape: {y.shape}' )\n",
    "# # map y values to int\n",
    "# sorted_y_values = sorted(y.unique())\n",
    "\n",
    "# y_int = y.map({val: i for i, val in enumerate(sorted_y_values)})\n",
    "# print(f'y mapping: {y_int}')\n",
    "\n",
    "# # Convert to numpy arrays for consistent indexing\n",
    "# X_train, X_test, y_train, y_test = train_test_split(X, y, test_size=0.2, random_state=42, stratify=y)\n",
    "# y_train = np.array(y_train)\n",
    "# y_test = np.array(y_test)\n",
    "\n",
    "# n_train_samples = 10\n",
    "# n_test_samples = 3\n",
    "# # select random idx\n",
    "# train_idx_sample = np.random.choice(len(X_train), n_train_samples, replace=False)\n",
    "# test_idx_sample = np.random.choice(len(X_test), n_test_samples, replace=False)\n",
    "\n",
    "# X_train_sample = X_train[train_idx_sample]\n",
    "# y_train_sample = y_train[train_idx_sample]\n",
    "\n",
    "# X_test_sample = X_test[test_idx_sample]\n",
    "# y_test_sample = y_test[test_idx_sample]"
   ]
  },
  {
   "cell_type": "code",
   "execution_count": null,
   "metadata": {},
   "outputs": [],
   "source": [
    "\n",
    "# prefix = \"Classify the sentiment of this text as POSITIVE, NEGATIVE, or NEUTRAL: \"\n",
    "# # passage_prefix = \"Instruct: \"+task_name_to_instruct[\"example\"]+\"\\nQuery: \"\n",
    "# X_train_encoded = sentence_encoder.encode(X_train_sample, instruct = prefix)\n",
    "# X_test_encoded = sentence_encoder.encode(X_test_sample, instruct = prefix) "
   ]
  },
  {
   "cell_type": "markdown",
   "metadata": {},
   "source": [
    "# LLM as a classifier (Classifier agent)"
   ]
  },
  {
   "cell_type": "code",
   "execution_count": null,
   "metadata": {},
   "outputs": [
    {
     "name": "stdout",
     "output_type": "stream",
     "text": [
      "prompt: Classify the sentiment of the following text as POSITIVE, NEGATIVE, or NEUTRAL. Answer only with the category: what a god bless movie from the story to line to the characters absolutely beautiful, y_test_sample: 2\n",
      "prediction: POSITIVE, label: 2\n",
      "prompt: Classify the sentiment of the following text as POSITIVE, NEGATIVE, or NEUTRAL. Answer only with the category: a more effective way for villagers to return at night is an automatic bell alarm using night sensors with linked with a timer that rings thrice it kinds of really reminds me of a clock that has curfew regulations, y_test_sample: 1\n",
      "prediction: NEUTRAL, label: 1\n",
      "prompt: Classify the sentiment of the following text as POSITIVE, NEGATIVE, or NEUTRAL. Answer only with the category: i don’t even have any allergies but the consciousness of allergens is so comforting idk why  i know it’s really scary traveling with allergies for you gibi so i can imagine how nice it would be to hear those words from a flight attendant, y_test_sample: 2\n",
      "prediction: POSITIVE, label: 2\n",
      "prompt: Classify the sentiment of the following text as POSITIVE, NEGATIVE, or NEUTRAL. Answer only with the category: todavía es muy pronto para un crossover de dc vs marvel tranquiiiiiloooo dwayne no tan rápido es cierto que a muchos fans frikis nos encantaría este crossover pero para mí es pronto primero que hagan muchas pelis de dc tantas como más o menos marvel y luego ya veremos si se podría hacer ese crossover el día que llegue ese crossover si es que lo hacen la vamos a flipar seguro, y_test_sample: 1\n",
      "prediction: NEUTRAL, label: 1\n",
      "prompt: Classify the sentiment of the following text as POSITIVE, NEGATIVE, or NEUTRAL. Answer only with the category: so i took the sat practice test 10 right i usually score 13601400 on a practice test i make a total of 5 mistakes on the math section on a bad day which is what happend usually it will translate to a score of 730740 i did pretty well on reading 3352 and writing 4044 sections im excited to calculate my score and then i see the horrific truth 4044 in writing is translated to 330 70 points deducted for 4 wrong answers 3352 is translated to 280 fine 5358 is translated to 710 90 points deducted for 5 wrong answers a total of 1320 even though i did exteramly good in the writing section just above averge in reading which is a totally flawed section but thats another topic and amazing in the math section i got a just above average score that gives me no chance hypothetically to get into my dream school am i a joke to you, y_test_sample: 2\n",
      "prediction: NEGATIVE, label: 2\n",
      "prompt: Classify the sentiment of the following text as POSITIVE, NEGATIVE, or NEUTRAL. Answer only with the category: yet another marvelous production from the world science festival i wait for every new episode as if sitting at the edge of my seat as these brilliant hardworking individuals reveal more details about the saga we call “life” thank you so much brian greene for taking the time to help connect us with all of this valuable insight, y_test_sample: 2\n",
      "prediction: POSITIVE, label: 2\n",
      "prompt: Classify the sentiment of the following text as POSITIVE, NEGATIVE, or NEUTRAL. Answer only with the category: nice i love 123 go troom troom every one, y_test_sample: 2\n",
      "prediction: POSITIVE, label: 2\n",
      "prompt: Classify the sentiment of the following text as POSITIVE, NEGATIVE, or NEUTRAL. Answer only with the category: this video was incredibly well done this lady is really great at teaching material in a clear easytofollow manner, y_test_sample: 2\n",
      "prediction: POSITIVE, label: 2\n",
      "prompt: Classify the sentiment of the following text as POSITIVE, NEGATIVE, or NEUTRAL. Answer only with the category: that “atheists for jesus” got me wheezing real bad lmao, y_test_sample: 0\n",
      "prediction: POSITIVE, label: 0\n",
      "prompt: Classify the sentiment of the following text as POSITIVE, NEGATIVE, or NEUTRAL. Answer only with the category: the clothes are traditional clothes in every region in indonesia and the little white bird is the jalak bali alffy wants to make us aware that this bird is almost extinct, y_test_sample: 1\n",
      "prediction: NEUTRAL, label: 1\n",
      "prompt: Classify the sentiment of the following text as POSITIVE, NEGATIVE, or NEUTRAL. Answer only with the category: yeah we are most definitely going to inevitably be our own downfall we may have the tools and technology to weather some disasters but we depend so much on the infrastructures we have set up to the point where most people probably wouldnt know what to do without wifi and cellular data let alone weather catastrophic effects on our food sources and supply chains, y_test_sample: 0\n",
      "prediction: NEGATIVE, label: 0\n",
      "prompt: Classify the sentiment of the following text as POSITIVE, NEGATIVE, or NEUTRAL. Answer only with the category: this looks really fresh definitely gonna check this out in release, y_test_sample: 2\n",
      "prediction: POSITIVE, label: 2\n",
      "prompt: Classify the sentiment of the following text as POSITIVE, NEGATIVE, or NEUTRAL. Answer only with the category: ronan accepting the challenge to the dance battle was his nexus event, y_test_sample: 1\n",
      "prediction: NEUTRAL, label: 1\n",
      "prompt: Classify the sentiment of the following text as POSITIVE, NEGATIVE, or NEUTRAL. Answer only with the category: my code works i have no idea why my code doesnt work i have no idea why, y_test_sample: 0\n",
      "prediction: NEUTRAL, label: 0\n",
      "prompt: Classify the sentiment of the following text as POSITIVE, NEGATIVE, or NEUTRAL. Answer only with the category: yousuf bhai to jimmy before watching the show room ha mara ko to asa dak dak ho raya ha , y_test_sample: 1\n",
      "prediction: NEUTRAL, label: 1\n",
      "prompt: Classify the sentiment of the following text as POSITIVE, NEGATIVE, or NEUTRAL. Answer only with the category: im contemplating transitioning from the military and have been doing a ton of research in computer science i have a bachelors degree in management but have coursework in aerospace engineering but only got as far as calc ii i didnt realize you could go for a masters in a different subject like you did how did you find that experience changing professions how was the application process, y_test_sample: 1\n",
      "prediction: NEUTRAL, label: 1\n",
      "prompt: Classify the sentiment of the following text as POSITIVE, NEGATIVE, or NEUTRAL. Answer only with the category: im so hyped for starfield but i feel like i cant be 100 sold on it because of how this was basically what happened with fallout 76 major hype then it releases and colossal flop i really hope bethesda can deliver this time , y_test_sample: 1\n",
      "prediction: NEUTRAL, label: 1\n",
      "prompt: Classify the sentiment of the following text as POSITIVE, NEGATIVE, or NEUTRAL. Answer only with the category: cells are too complicated for their own good soon they will band together and become powerful enough to take over the wor oh wait, y_test_sample: 1\n",
      "prediction: NEGATIVE, label: 1\n",
      "prompt: Classify the sentiment of the following text as POSITIVE, NEGATIVE, or NEUTRAL. Answer only with the category: no djs from today could beat these tunes yet, y_test_sample: 2\n",
      "prediction: NEGATIVE, label: 2\n",
      "prompt: Classify the sentiment of the following text as POSITIVE, NEGATIVE, or NEUTRAL. Answer only with the category: getting gooood, y_test_sample: 2\n",
      "prediction: POSITIVE, label: 2\n",
      "prompt: Classify the sentiment of the following text as POSITIVE, NEGATIVE, or NEUTRAL. Answer only with the category: maturity is when you realise lakshay is increasing his quality content day by day , y_test_sample: 2\n",
      "prediction: POSITIVE, label: 2\n",
      "prompt: Classify the sentiment of the following text as POSITIVE, NEGATIVE, or NEUTRAL. Answer only with the category: salut lanti phishing sur binance est utilisé également sur les contrats perp sur bybit peuton laisser lordre autant de temps que lon veut en montant le tp sur plusieurs semaines par ex, y_test_sample: 1\n",
      "prediction: NEUTRAL, label: 1\n",
      "prompt: Classify the sentiment of the following text as POSITIVE, NEGATIVE, or NEUTRAL. Answer only with the category: poor keith my buddies have his class currently and although his class is difficult he seems like a pretty chill dude, y_test_sample: 2\n",
      "prediction: NEUTRAL, label: 2\n",
      "prompt: Classify the sentiment of the following text as POSITIVE, NEGATIVE, or NEUTRAL. Answer only with the category: this is really an amazing animated video that creates goosebumps and fills every indians heart with pride joy and sadness as well the creator mentioned the name assam but i want to add more names of freedom fighters who are from assam and equally contributed foremost name is kanaklata baruah just a 17 years old girl and she took bullet while hoisting indian flag and died on the spot other freedom fighters are gopinath bordoloi jyoti prasad agarwala maniram dewan kushal konwar hem barua tyagbir bhogeswari phukanani other prominent freedom struggle unsung heroes from northeast india are major paona brajabashi bir tikendrajit singh rani gaidinliu 13 years old naga girl haipou jadonang u tirot sing syiemlieh moje riba u kiang nangbah pa togan sangma and the list of names doesnt stop here there are many more , y_test_sample: 2\n",
      "prediction: POSITIVE, label: 2\n",
      "prompt: Classify the sentiment of the following text as POSITIVE, NEGATIVE, or NEUTRAL. Answer only with the category: judging by angel and leos reactions it seems like gugas cooking just gets better and better every video, y_test_sample: 2\n",
      "prediction: POSITIVE, label: 2\n",
      "prompt: Classify the sentiment of the following text as POSITIVE, NEGATIVE, or NEUTRAL. Answer only with the category: this guy raised me for 6 years i stopped watching him when after i hit puberty but i still come back now and then to remember him and see how he is doing i hope you know how much many people appreciate you and if only you could see and meet everyone that watched your videos in your prime from downloading that ghost tracking app and playing around to the disstrack and all the granny videos we truly love you, y_test_sample: 2\n",
      "prediction: POSITIVE, label: 2\n",
      "prompt: Classify the sentiment of the following text as POSITIVE, NEGATIVE, or NEUTRAL. Answer only with the category: 642 anxiety to the point where i was considering not going to this meetup even when i was sitting in the parking lot of the venue i felt that hard good job making it happen, y_test_sample: 0\n",
      "prediction: NEUTRAL, label: 0\n",
      "prompt: Classify the sentiment of the following text as POSITIVE, NEGATIVE, or NEUTRAL. Answer only with the category: its always a calm day when dreamhop releases a new mix , y_test_sample: 2\n",
      "prediction: POSITIVE, label: 2\n",
      "prompt: Classify the sentiment of the following text as POSITIVE, NEGATIVE, or NEUTRAL. Answer only with the category: any entertainment channel you watch will never tell you any of the real bad stuff they are doing they will give you some small nuggets of truth but never tell you whats really going on, y_test_sample: 0\n",
      "prediction: NEGATIVE, label: 0\n",
      "prompt: Classify the sentiment of the following text as POSITIVE, NEGATIVE, or NEUTRAL. Answer only with the category: what songbyrds husband eats kinda looks like bean soup we call it bableves in hungarian we just use a different type of bean its actually deliciousone of my fav soup, y_test_sample: 2\n",
      "prediction: POSITIVE, label: 2\n",
      "prompt: Classify the sentiment of the following text as POSITIVE, NEGATIVE, or NEUTRAL. Answer only with the category: that was very helpful video, y_test_sample: 2\n",
      "prediction: POSITIVE, label: 2\n",
      "prompt: Classify the sentiment of the following text as POSITIVE, NEGATIVE, or NEUTRAL. Answer only with the category: such a humble guy the way he approaches to convey the message to the audience brillant, y_test_sample: 2\n",
      "prediction: POSITIVE, label: 2\n",
      "prompt: Classify the sentiment of the following text as POSITIVE, NEGATIVE, or NEUTRAL. Answer only with the category: this is brilliantly done congrats, y_test_sample: 2\n",
      "prediction: POSITIVE, label: 2\n",
      "prompt: Classify the sentiment of the following text as POSITIVE, NEGATIVE, or NEUTRAL. Answer only with the category: i’m honestly waiting for the new ipad pro’s to drop might make the m1 pros available for cheaper refurbished or otherwise heck it may make the 2018 ones even cheaper, y_test_sample: 2\n",
      "prediction: NEUTRAL, label: 2\n",
      "prompt: Classify the sentiment of the following text as POSITIVE, NEGATIVE, or NEUTRAL. Answer only with the category: for a country with a terrible education rating in the world youre doing your best to fall further down the list, y_test_sample: 0\n",
      "prediction: NEGATIVE, label: 0\n",
      "prompt: Classify the sentiment of the following text as POSITIVE, NEGATIVE, or NEUTRAL. Answer only with the category: so we will see magnus in scc and some title tuesdays now thats a great news looking forward to see more magnus vs hikaru, y_test_sample: 2\n",
      "prediction: POSITIVE, label: 2\n",
      "prompt: Classify the sentiment of the following text as POSITIVE, NEGATIVE, or NEUTRAL. Answer only with the category: the fact that whalesdolphins can legally just be kept at places like seaworld is just insane given just the information in this video, y_test_sample: 0\n",
      "prediction: NEGATIVE, label: 0\n",
      "prompt: Classify the sentiment of the following text as POSITIVE, NEGATIVE, or NEUTRAL. Answer only with the category: br asmr muito god, y_test_sample: 1\n",
      "prediction: POSITIVE, label: 1\n",
      "prompt: Classify the sentiment of the following text as POSITIVE, NEGATIVE, or NEUTRAL. Answer only with the category: gongsam coming at us with another killer mukbang , y_test_sample: 1\n",
      "prediction: POSITIVE, label: 1\n",
      "prompt: Classify the sentiment of the following text as POSITIVE, NEGATIVE, or NEUTRAL. Answer only with the category: you know how theres speedruns for a single player beating minecraft how interesting would it be to see a speedrun with multiple players trying to beat minecraft together, y_test_sample: 2\n",
      "prediction: POSITIVE, label: 2\n",
      "prompt: Classify the sentiment of the following text as POSITIVE, NEGATIVE, or NEUTRAL. Answer only with the category: eevee tiene un barretto , y_test_sample: 2\n",
      "prediction: NEUTRAL, label: 2\n",
      "prompt: Classify the sentiment of the following text as POSITIVE, NEGATIVE, or NEUTRAL. Answer only with the category: i really love these videos you make me relax and lay down in my bed lol, y_test_sample: 2\n",
      "prediction: POSITIVE, label: 2\n",
      "prompt: Classify the sentiment of the following text as POSITIVE, NEGATIVE, or NEUTRAL. Answer only with the category: man adventure time such a beautiful incomparable creationtruly blessed, y_test_sample: 2\n",
      "prediction: POSITIVE, label: 2\n",
      "prompt: Classify the sentiment of the following text as POSITIVE, NEGATIVE, or NEUTRAL. Answer only with the category: this is the best steam deck ive watched even out of all the tech youtubers and video game channels love the up in the video production quality as well wood keep levelling up awesome content, y_test_sample: 2\n",
      "prediction: POSITIVE, label: 2\n",
      "prompt: Classify the sentiment of the following text as POSITIVE, NEGATIVE, or NEUTRAL. Answer only with the category: shells in my palm like peanuts, y_test_sample: 1\n",
      "prediction: NEUTRAL, label: 1\n",
      "prompt: Classify the sentiment of the following text as POSITIVE, NEGATIVE, or NEUTRAL. Answer only with the category: the sound test killed me that was hilarious and the wrist rest is brilliant i often get marks on my wrist from my mousepad, y_test_sample: 2\n",
      "prediction: POSITIVE, label: 2\n",
      "prompt: Classify the sentiment of the following text as POSITIVE, NEGATIVE, or NEUTRAL. Answer only with the category: i love how chris uses “i have a child” excuse to get away with everything lol, y_test_sample: 2\n",
      "prediction: NEGATIVE, label: 2\n",
      "prompt: Classify the sentiment of the following text as POSITIVE, NEGATIVE, or NEUTRAL. Answer only with the category: trying to test out of bio 101 so i can eventually get my third degree nursing thanx hank along with that here is what i quickly typed down as a sort of summary feel free to fix  william prout discovered our stomachs have hydrochloric acid and discovered chemical composition of urea also discovered food is divided into carbs fats and proteins  carbohydrates are the source of all energy  carbs are made of sugars with the simplest being monosaccharides  glucose a monosaccharide number 1 sugar that comes from the sun  fructose same chemical as glucose but arranged differently and is sweeter  disaccharides are two monosaccharides put together  sucrose fructose and glucose connected is a disaccharide joined by a covalent bond  polysaccharides are thousands of simple sugar units  cellulose is a bunch of glucose molecules  bread is made of starch and amylase  our bodies store carbs in form of glycogen in our muscle until we need to use them  we store our energy long term through fat aka lipids  lipids are non polar and can’t dissolve in water  fats are made of glycerol and fatty acids  saturated fats don’t have double bonds while unsaturated fats do  trans fat do not exist in nature and are unsaturated and bad for the body  omega 3 fats unsaturated are essential but we need to eat them in order to get them  phospholipids form cell membrane walls to keep bad stuff out and good stuff in  phospholipids are one end polar and one end non polar  steroids a phospholipid made of 4 carbon rings are used to make cholesterol  proteins of made of 20 amino acids which do everything for the body  nitrogen can only be gotten into our bodies from food via foods high in protein  polypeptides are formed by long chains of amino acids  the 9 essential amino acids which are bodies can’t make on their own are histidine isoleucine leucine lysine methionine phenylalanine threonine tryptophan and valine, y_test_sample: 1\n",
      "prediction: NEUTRAL, label: 1\n",
      "prompt: Classify the sentiment of the following text as POSITIVE, NEGATIVE, or NEUTRAL. Answer only with the category: coding your own games is easier than you think skip ad, y_test_sample: 2\n",
      "prediction: POSITIVE, label: 2\n",
      "prompt: Classify the sentiment of the following text as POSITIVE, NEGATIVE, or NEUTRAL. Answer only with the category: you are a life saver i got stuck with a pretty bad teacher and literally wouldve failed my exam if it wasnt for you, y_test_sample: 0\n",
      "prediction: POSITIVE, label: 0\n",
      "prompt: Classify the sentiment of the following text as POSITIVE, NEGATIVE, or NEUTRAL. Answer only with the category: im impressed with the thoroughness and professionalism exhibit by this team particularly their depth of knowledge focus integrity and attention to details make us very comfortable doing bitcoin investment with them, y_test_sample: 2\n",
      "prediction: POSITIVE, label: 2\n",
      "prompt: Classify the sentiment of the following text as POSITIVE, NEGATIVE, or NEUTRAL. Answer only with the category: this only works if all people involved are reasonable if one or more parties cant be reasoned with then the problem continues you can communicate until youre blue in the face but if the other person isnt willing to communicate appropriately then youve hit a brick wall, y_test_sample: 0\n",
      "prediction: NEGATIVE, label: 0\n",
      "prompt: Classify the sentiment of the following text as POSITIVE, NEGATIVE, or NEUTRAL. Answer only with the category: one of the best thing about dude is that he never takes credit for himself when he archives something he always respect us the audience and his team and he is polite in all his videos we congratulate ourselves on this achievement more to come, y_test_sample: 2\n",
      "prediction: POSITIVE, label: 2\n",
      "prompt: Classify the sentiment of the following text as POSITIVE, NEGATIVE, or NEUTRAL. Answer only with the category: glad to have found your channel this gives me a lot of insight im kinda feeling the i dont even like animating thing right now and wondering wtf else i can put those skills towards, y_test_sample: 1\n",
      "prediction: NEUTRAL, label: 1\n",
      "prompt: Classify the sentiment of the following text as POSITIVE, NEGATIVE, or NEUTRAL. Answer only with the category: so intelligent humble and articulate what a wonderful human, y_test_sample: 2\n",
      "prediction: POSITIVE, label: 2\n",
      "prompt: Classify the sentiment of the following text as POSITIVE, NEGATIVE, or NEUTRAL. Answer only with the category: this helped me so much my chem proffesor assigned a sig fig assignment with giving no context or review so i am very happy i came across your video thank you, y_test_sample: 2\n",
      "prediction: POSITIVE, label: 2\n",
      "prompt: Classify the sentiment of the following text as POSITIVE, NEGATIVE, or NEUTRAL. Answer only with the category: i dont know tamil but i am understanding the story by reading subtitlesobviously tamil movies are very good and awesome when it roled by my favourite actress, y_test_sample: 2\n",
      "prediction: POSITIVE, label: 2\n",
      "prompt: Classify the sentiment of the following text as POSITIVE, NEGATIVE, or NEUTRAL. Answer only with the category: i subscribed, y_test_sample: 1\n",
      "prediction: POSITIVE, label: 1\n",
      "prompt: Classify the sentiment of the following text as POSITIVE, NEGATIVE, or NEUTRAL. Answer only with the category: such a great stream, y_test_sample: 2\n",
      "prediction: POSITIVE, label: 2\n",
      "prompt: Classify the sentiment of the following text as POSITIVE, NEGATIVE, or NEUTRAL. Answer only with the category: i use to be mase sunday school teacher in atlanta when he first got started… he got my home girl number off the membership list and he was dating his secretary at the time… my home girl told me she would be in the tub while talking to him… he asked her… “you want to get to know mase the man or mase the man of god… mase is the biggest hypocrite pastor out there i know from personal experience…, y_test_sample: 0\n",
      "prediction: NEGATIVE, label: 0\n",
      "prompt: Classify the sentiment of the following text as POSITIVE, NEGATIVE, or NEUTRAL. Answer only with the category: i will forever appreciate this channel youve helped me and my family a lot your videos advice lessons and funny words are inspirational and helpful to us my husband and i have been able to minimal conscious in spending saving and investing wisely i now earn every week youre such a blessing to this generation we all love you, y_test_sample: 2\n",
      "prediction: POSITIVE, label: 2\n",
      "prompt: Classify the sentiment of the following text as POSITIVE, NEGATIVE, or NEUTRAL. Answer only with the category: aap kitna kama eye ho, y_test_sample: 1\n",
      "prediction: NEUTRAL, label: 1\n",
      "prompt: Classify the sentiment of the following text as POSITIVE, NEGATIVE, or NEUTRAL. Answer only with the category: im a hs teacher and ive probably played this playlist as background music in my classroom for my students 100 times since april thanks for making it, y_test_sample: 2\n",
      "prediction: POSITIVE, label: 2\n",
      "prompt: Classify the sentiment of the following text as POSITIVE, NEGATIVE, or NEUTRAL. Answer only with the category: thank you for your incredible videos, y_test_sample: 2\n",
      "prediction: POSITIVE, label: 2\n",
      "prompt: Classify the sentiment of the following text as POSITIVE, NEGATIVE, or NEUTRAL. Answer only with the category: just started watching today everything seem so clear now looking forward to other videos, y_test_sample: 2\n",
      "prediction: POSITIVE, label: 2\n",
      "prompt: Classify the sentiment of the following text as POSITIVE, NEGATIVE, or NEUTRAL. Answer only with the category: number one lil durk is and always be untouchable and he is real he doesnt need to explain because nba is wrong both are powerful artist and i hope they can squash it, y_test_sample: 1\n",
      "prediction: POSITIVE, label: 1\n",
      "prompt: Classify the sentiment of the following text as POSITIVE, NEGATIVE, or NEUTRAL. Answer only with the category: i wish the volume was better other than that good movie, y_test_sample: 1\n",
      "prediction: POSITIVE, label: 1\n",
      "prompt: Classify the sentiment of the following text as POSITIVE, NEGATIVE, or NEUTRAL. Answer only with the category: when it comes to apple the key to the hints they give is not to overthink it and i’m pretty sure this is related to the newer bigger camera that’s gonna be on the phones that will take beautiful pictures of the night sky if there’s one thing i’ve learned about apple in the past 10 years is that they aren’t that deep, y_test_sample: 2\n",
      "prediction: NEUTRAL, label: 2\n",
      "prompt: Classify the sentiment of the following text as POSITIVE, NEGATIVE, or NEUTRAL. Answer only with the category: amazing story makes me regret wasting so much time during collage when i knew i wanted to develop my game dev skills, y_test_sample: 2\n",
      "prediction: NEGATIVE, label: 2\n",
      "prompt: Classify the sentiment of the following text as POSITIVE, NEGATIVE, or NEUTRAL. Answer only with the category: me as an american when he says hes going to try to spend 100 at food trucks ok so youre going to like 2 or 3 trucks cool, y_test_sample: 1\n",
      "prediction: NEUTRAL, label: 1\n",
      "prompt: Classify the sentiment of the following text as POSITIVE, NEGATIVE, or NEUTRAL. Answer only with the category: i don’t know why y’all didn’t see that coming he literally had a sugar daddy, y_test_sample: 0\n",
      "prediction: NEGATIVE, label: 0\n",
      "prompt: Classify the sentiment of the following text as POSITIVE, NEGATIVE, or NEUTRAL. Answer only with the category: explore our free courses with completion certificate, y_test_sample: 1\n",
      "prediction: POSITIVE, label: 1\n",
      "prompt: Classify the sentiment of the following text as POSITIVE, NEGATIVE, or NEUTRAL. Answer only with the category: big tech companies der repair industry bad for privacy and safety also bit tech companies privacy no we need to monitor you so we can accuse you without a proper investigation, y_test_sample: 0\n",
      "prediction: NEGATIVE, label: 0\n",
      "prompt: Classify the sentiment of the following text as POSITIVE, NEGATIVE, or NEUTRAL. Answer only with the category: for the stopping time there is a timetimescale property that you can use to stop your scripts and physicsautosimulation which stops physics such as falling cubes, y_test_sample: 1\n",
      "prediction: NEUTRAL, label: 1\n",
      "prompt: Classify the sentiment of the following text as POSITIVE, NEGATIVE, or NEUTRAL. Answer only with the category: i’m running into ya on defense a lot in room 5 i play in diamond any advice i’ve been using wx but it’s dicey…, y_test_sample: 1\n",
      "prediction: NEUTRAL, label: 1\n",
      "prompt: Classify the sentiment of the following text as POSITIVE, NEGATIVE, or NEUTRAL. Answer only with the category: increíble la recreación del juego del dinosaurio cuando que solo sirve cuando no hay internet, y_test_sample: 1\n",
      "prediction: NEGATIVE, label: 1\n",
      "prompt: Classify the sentiment of the following text as POSITIVE, NEGATIVE, or NEUTRAL. Answer only with the category: man i love seeing old media predict the future correctly they even showed the lack of joy all gamers have, y_test_sample: 2\n",
      "prediction: NEUTRAL, label: 2\n",
      "prompt: Classify the sentiment of the following text as POSITIVE, NEGATIVE, or NEUTRAL. Answer only with the category: check out spizee the new guy, y_test_sample: 1\n",
      "prediction: NEUTRAL, label: 1\n",
      "prompt: Classify the sentiment of the following text as POSITIVE, NEGATIVE, or NEUTRAL. Answer only with the category: one of the best videos i’ve watched on youtube so complete wasn’t what i was looking forgotta get more accurate at searching but i’m subscribing to your content because i learned the most watching this video and took notes thank you my good man wonderful day to you, y_test_sample: 2\n",
      "prediction: POSITIVE, label: 2\n",
      "prompt: Classify the sentiment of the following text as POSITIVE, NEGATIVE, or NEUTRAL. Answer only with the category: avengers endgame itself is speechless, y_test_sample: 0\n",
      "prediction: POSITIVE, label: 0\n",
      "prompt: Classify the sentiment of the following text as POSITIVE, NEGATIVE, or NEUTRAL. Answer only with the category: investing in stocks can be an efficient way to build wealth over time the key to making money in stocks is remaining in the stock market investors often move in and out of the stock market at the worst possible times missing out on that annual return, y_test_sample: 1\n",
      "prediction: NEUTRAL, label: 1\n",
      "prompt: Classify the sentiment of the following text as POSITIVE, NEGATIVE, or NEUTRAL. Answer only with the category: i absolutely adore this series of insane biology the long videos and high quality content keep it coming, y_test_sample: 2\n",
      "prediction: POSITIVE, label: 2\n",
      "prompt: Classify the sentiment of the following text as POSITIVE, NEGATIVE, or NEUTRAL. Answer only with the category: hats off to ptr each and every word uttered by him comes from his mind i read a comment which says that ptr is a ray of hope in these difficult times i endorse this statement, y_test_sample: 2\n",
      "prediction: POSITIVE, label: 2\n",
      "prompt: Classify the sentiment of the following text as POSITIVE, NEGATIVE, or NEUTRAL. Answer only with the category: this is amazing  i’m so excited for the future of these science discoveries, y_test_sample: 2\n",
      "prediction: POSITIVE, label: 2\n",
      "prompt: Classify the sentiment of the following text as POSITIVE, NEGATIVE, or NEUTRAL. Answer only with the category: how much courage do you have to have to troll the police, y_test_sample: 1\n",
      "prediction: NEUTRAL, label: 1\n",
      "prompt: Classify the sentiment of the following text as POSITIVE, NEGATIVE, or NEUTRAL. Answer only with the category: 1910 im honestly impressed by the time and effort you put into these videos keep it up , y_test_sample: 2\n",
      "prediction: POSITIVE, label: 2\n",
      "prompt: Classify the sentiment of the following text as POSITIVE, NEGATIVE, or NEUTRAL. Answer only with the category: why do these scary doctors perfrom radiation surgery on a villager in minecraft scary villager, y_test_sample: 0\n",
      "prediction: NEUTRAL, label: 0\n",
      "prompt: Classify the sentiment of the following text as POSITIVE, NEGATIVE, or NEUTRAL. Answer only with the category: and then we stab her in the neck soup was spot on calling him a bruv, y_test_sample: 0\n",
      "prediction: NEGATIVE, label: 0\n",
      "prompt: Classify the sentiment of the following text as POSITIVE, NEGATIVE, or NEUTRAL. Answer only with the category: why would they be angry they voted for it, y_test_sample: 0\n",
      "prediction: NEUTRAL, label: 0\n",
      "prompt: Classify the sentiment of the following text as POSITIVE, NEGATIVE, or NEUTRAL. Answer only with the category: great stream as always i appreciate the levelheaded approach you take to the news and the markets a lot has changed and thats on everything but the truth is i dont even care much about bullish or bearish market anymore because wtrade inspects got me cover as i am comfortably making 51b t c monthly, y_test_sample: 2\n",
      "prediction: POSITIVE, label: 2\n",
      "prompt: Classify the sentiment of the following text as POSITIVE, NEGATIVE, or NEUTRAL. Answer only with the category: make sure to check your answer sheet with someone next to you during the test, y_test_sample: 1\n",
      "prediction: NEUTRAL, label: 1\n",
      "prompt: Classify the sentiment of the following text as POSITIVE, NEGATIVE, or NEUTRAL. Answer only with the category: 95 of traders lose learn to hold no one goes from broke to rich without market pain stop selling and buying on emotion investment and hold get through the pain in 5 years youll do great dont buy meme coins if it hadnt been with the help of antonio carlson whom i cant thank enough i had already given up on crypto after losing so much money, y_test_sample: 1\n",
      "prediction: NEGATIVE, label: 1\n",
      "prompt: Classify the sentiment of the following text as POSITIVE, NEGATIVE, or NEUTRAL. Answer only with the category: fantastic tutorial much better than the others i watched its not lengthy and simply explained time frames are much appreciated the only thing i did not enjoy in the tutorial is the last layer part bc the algorithm was not taught in the intro and i messed it up due to the lack of practice on a side note i liked when you voiced the algorithm sequence not just showed, y_test_sample: 2\n",
      "prediction: POSITIVE, label: 2\n",
      "prompt: Classify the sentiment of the following text as POSITIVE, NEGATIVE, or NEUTRAL. Answer only with the category: thank you very much it really helps a lot hope you will continue doing such great videos, y_test_sample: 2\n",
      "prediction: POSITIVE, label: 2\n",
      "prompt: Classify the sentiment of the following text as POSITIVE, NEGATIVE, or NEUTRAL. Answer only with the category: in the final scene it really is tom cruise flying the plane and it really is his plane he also owns and pilots a jet, y_test_sample: 1\n",
      "prediction: NEUTRAL, label: 1\n",
      "prompt: Classify the sentiment of the following text as POSITIVE, NEGATIVE, or NEUTRAL. Answer only with the category: who has a more annoying voice lucas or omrilol, y_test_sample: 0\n",
      "prediction: NEUTRAL, label: 0\n",
      "prompt: Classify the sentiment of the following text as POSITIVE, NEGATIVE, or NEUTRAL. Answer only with the category: hi tee i enjoyed this video the seafood boil with the two sauces look so delicious your looking beautiful too  continue blessings to you and your family in jesus name have a blessed day, y_test_sample: 2\n",
      "prediction: POSITIVE, label: 2\n",
      "prompt: Classify the sentiment of the following text as POSITIVE, NEGATIVE, or NEUTRAL. Answer only with the category: to anybody whos reading this i pray that whatever is hurting you or whatever you are constantly stressing about gets better may the dark thoughts the overthinking and the doubt exit your mind may clarity replace confusion may peace and calmness fill your life , y_test_sample: 2\n",
      "prediction: POSITIVE, label: 2\n",
      "prompt: Classify the sentiment of the following text as POSITIVE, NEGATIVE, or NEUTRAL. Answer only with the category: i have never really been big on interacting in yt comments but you guys just might change that love the show, y_test_sample: 2\n",
      "prediction: POSITIVE, label: 2\n",
      "prompt: Classify the sentiment of the following text as POSITIVE, NEGATIVE, or NEUTRAL. Answer only with the category: lemon craft i think you should get over 30000000 likes i love your videos , y_test_sample: 2\n",
      "prediction: POSITIVE, label: 2\n"
     ]
    }
   ],
   "source": [
    "# pick N random examples from X_test\n",
    "N = 100\n",
    "test_idx_sample = np.random.choice(len(X_test), N, replace=False)\n",
    "X_test_sample = X_test[test_idx_sample]\n",
    "y_test_sample = y_test[test_idx_sample]\n",
    "\n",
    "# ask openai to classify the examples\n",
    "\n",
    "model = 'gpt-4o-mini'\n",
    "\n",
    "predictions = []\n",
    "for text, label in zip(X_test_sample, y_test_sample):\n",
    "    prompt = f\"Classify the sentiment of the following text as POSITIVE, NEGATIVE, or NEUTRAL. Answer only with the category: {text}\"\n",
    "    print(f'prompt: {prompt}, y_test_sample: {label}')\n",
    "    response = client.chat.completions.create(\n",
    "        model=model,\n",
    "        messages=[{\"role\": \"user\", \"content\": prompt}],\n",
    "    )\n",
    "    prediction = response.choices[0].message.content\n",
    "    text_of_label = sorted_y_values[label]\n",
    "    print(f\"prediction: {prediction}, label: {label}\")\n",
    "\n",
    "    prediction = prediction.strip().lower()\n",
    "    predictions.append(prediction)\n",
    "\n",
    "for prediction, label in zip(predictions, y_test_sample):\n",
    "    print(f\"prediction: {prediction}, label: {sorted_y_values[label]}\")\n",
    "\n",
    "predicion_ids = [sorted_y_values.index(prediction) for prediction in predictions]\n",
    "# predicion_ids\n",
    "\n",
    "# show classifier results\n",
    "show_classifier_results(y_test_sample, predicion_ids)\n",
    "\n"
   ]
  },
  {
   "cell_type": "code",
   "execution_count": null,
   "metadata": {},
   "outputs": [
    {
     "name": "stdout",
     "output_type": "stream",
     "text": [
      "prompt: Classify the sentiment of the following text as POSITIVE, NEGATIVE, or NEUTRAL. Answer only with the category: what a god bless movie from the story to line to the characters absolutely beautiful, y_test_sample: 2\n",
      "prediction: POSITIVE, label: 2\n",
      "prompt: Classify the sentiment of the following text as POSITIVE, NEGATIVE, or NEUTRAL. Answer only with the category: a more effective way for villagers to return at night is an automatic bell alarm using night sensors with linked with a timer that rings thrice it kinds of really reminds me of a clock that has curfew regulations, y_test_sample: 1\n",
      "prediction: NEUTRAL, label: 1\n",
      "prompt: Classify the sentiment of the following text as POSITIVE, NEGATIVE, or NEUTRAL. Answer only with the category: i don’t even have any allergies but the consciousness of allergens is so comforting idk why  i know it’s really scary traveling with allergies for you gibi so i can imagine how nice it would be to hear those words from a flight attendant, y_test_sample: 2\n",
      "prediction: POSITIVE, label: 2\n",
      "prompt: Classify the sentiment of the following text as POSITIVE, NEGATIVE, or NEUTRAL. Answer only with the category: todavía es muy pronto para un crossover de dc vs marvel tranquiiiiiloooo dwayne no tan rápido es cierto que a muchos fans frikis nos encantaría este crossover pero para mí es pronto primero que hagan muchas pelis de dc tantas como más o menos marvel y luego ya veremos si se podría hacer ese crossover el día que llegue ese crossover si es que lo hacen la vamos a flipar seguro, y_test_sample: 1\n",
      "prediction: NEUTRAL, label: 1\n",
      "prompt: Classify the sentiment of the following text as POSITIVE, NEGATIVE, or NEUTRAL. Answer only with the category: so i took the sat practice test 10 right i usually score 13601400 on a practice test i make a total of 5 mistakes on the math section on a bad day which is what happend usually it will translate to a score of 730740 i did pretty well on reading 3352 and writing 4044 sections im excited to calculate my score and then i see the horrific truth 4044 in writing is translated to 330 70 points deducted for 4 wrong answers 3352 is translated to 280 fine 5358 is translated to 710 90 points deducted for 5 wrong answers a total of 1320 even though i did exteramly good in the writing section just above averge in reading which is a totally flawed section but thats another topic and amazing in the math section i got a just above average score that gives me no chance hypothetically to get into my dream school am i a joke to you, y_test_sample: 2\n",
      "prediction: NEGATIVE, label: 2\n",
      "prompt: Classify the sentiment of the following text as POSITIVE, NEGATIVE, or NEUTRAL. Answer only with the category: yet another marvelous production from the world science festival i wait for every new episode as if sitting at the edge of my seat as these brilliant hardworking individuals reveal more details about the saga we call “life” thank you so much brian greene for taking the time to help connect us with all of this valuable insight, y_test_sample: 2\n",
      "prediction: POSITIVE, label: 2\n",
      "prompt: Classify the sentiment of the following text as POSITIVE, NEGATIVE, or NEUTRAL. Answer only with the category: nice i love 123 go troom troom every one, y_test_sample: 2\n",
      "prediction: POSITIVE, label: 2\n",
      "prompt: Classify the sentiment of the following text as POSITIVE, NEGATIVE, or NEUTRAL. Answer only with the category: this video was incredibly well done this lady is really great at teaching material in a clear easytofollow manner, y_test_sample: 2\n",
      "prediction: POSITIVE, label: 2\n",
      "prompt: Classify the sentiment of the following text as POSITIVE, NEGATIVE, or NEUTRAL. Answer only with the category: that “atheists for jesus” got me wheezing real bad lmao, y_test_sample: 0\n",
      "prediction: POSITIVE, label: 0\n",
      "prompt: Classify the sentiment of the following text as POSITIVE, NEGATIVE, or NEUTRAL. Answer only with the category: the clothes are traditional clothes in every region in indonesia and the little white bird is the jalak bali alffy wants to make us aware that this bird is almost extinct, y_test_sample: 1\n",
      "prediction: NEUTRAL, label: 1\n",
      "prompt: Classify the sentiment of the following text as POSITIVE, NEGATIVE, or NEUTRAL. Answer only with the category: yeah we are most definitely going to inevitably be our own downfall we may have the tools and technology to weather some disasters but we depend so much on the infrastructures we have set up to the point where most people probably wouldnt know what to do without wifi and cellular data let alone weather catastrophic effects on our food sources and supply chains, y_test_sample: 0\n",
      "prediction: NEGATIVE, label: 0\n",
      "prompt: Classify the sentiment of the following text as POSITIVE, NEGATIVE, or NEUTRAL. Answer only with the category: this looks really fresh definitely gonna check this out in release, y_test_sample: 2\n",
      "prediction: POSITIVE, label: 2\n",
      "prompt: Classify the sentiment of the following text as POSITIVE, NEGATIVE, or NEUTRAL. Answer only with the category: ronan accepting the challenge to the dance battle was his nexus event, y_test_sample: 1\n",
      "prediction: NEUTRAL, label: 1\n",
      "prompt: Classify the sentiment of the following text as POSITIVE, NEGATIVE, or NEUTRAL. Answer only with the category: my code works i have no idea why my code doesnt work i have no idea why, y_test_sample: 0\n",
      "prediction: NEUTRAL, label: 0\n",
      "prompt: Classify the sentiment of the following text as POSITIVE, NEGATIVE, or NEUTRAL. Answer only with the category: yousuf bhai to jimmy before watching the show room ha mara ko to asa dak dak ho raya ha , y_test_sample: 1\n",
      "prediction: NEUTRAL, label: 1\n",
      "prompt: Classify the sentiment of the following text as POSITIVE, NEGATIVE, or NEUTRAL. Answer only with the category: im contemplating transitioning from the military and have been doing a ton of research in computer science i have a bachelors degree in management but have coursework in aerospace engineering but only got as far as calc ii i didnt realize you could go for a masters in a different subject like you did how did you find that experience changing professions how was the application process, y_test_sample: 1\n",
      "prediction: NEUTRAL, label: 1\n",
      "prompt: Classify the sentiment of the following text as POSITIVE, NEGATIVE, or NEUTRAL. Answer only with the category: im so hyped for starfield but i feel like i cant be 100 sold on it because of how this was basically what happened with fallout 76 major hype then it releases and colossal flop i really hope bethesda can deliver this time , y_test_sample: 1\n",
      "prediction: NEGATIVE, label: 1\n",
      "prompt: Classify the sentiment of the following text as POSITIVE, NEGATIVE, or NEUTRAL. Answer only with the category: cells are too complicated for their own good soon they will band together and become powerful enough to take over the wor oh wait, y_test_sample: 1\n",
      "prediction: NEUTRAL, label: 1\n",
      "prompt: Classify the sentiment of the following text as POSITIVE, NEGATIVE, or NEUTRAL. Answer only with the category: no djs from today could beat these tunes yet, y_test_sample: 2\n",
      "prediction: NEGATIVE, label: 2\n",
      "prompt: Classify the sentiment of the following text as POSITIVE, NEGATIVE, or NEUTRAL. Answer only with the category: getting gooood, y_test_sample: 2\n",
      "prediction: POSITIVE, label: 2\n",
      "prompt: Classify the sentiment of the following text as POSITIVE, NEGATIVE, or NEUTRAL. Answer only with the category: maturity is when you realise lakshay is increasing his quality content day by day , y_test_sample: 2\n",
      "prediction: POSITIVE, label: 2\n",
      "prompt: Classify the sentiment of the following text as POSITIVE, NEGATIVE, or NEUTRAL. Answer only with the category: salut lanti phishing sur binance est utilisé également sur les contrats perp sur bybit peuton laisser lordre autant de temps que lon veut en montant le tp sur plusieurs semaines par ex, y_test_sample: 1\n",
      "prediction: NEUTRAL, label: 1\n",
      "prompt: Classify the sentiment of the following text as POSITIVE, NEGATIVE, or NEUTRAL. Answer only with the category: poor keith my buddies have his class currently and although his class is difficult he seems like a pretty chill dude, y_test_sample: 2\n",
      "prediction: NEUTRAL, label: 2\n",
      "prompt: Classify the sentiment of the following text as POSITIVE, NEGATIVE, or NEUTRAL. Answer only with the category: this is really an amazing animated video that creates goosebumps and fills every indians heart with pride joy and sadness as well the creator mentioned the name assam but i want to add more names of freedom fighters who are from assam and equally contributed foremost name is kanaklata baruah just a 17 years old girl and she took bullet while hoisting indian flag and died on the spot other freedom fighters are gopinath bordoloi jyoti prasad agarwala maniram dewan kushal konwar hem barua tyagbir bhogeswari phukanani other prominent freedom struggle unsung heroes from northeast india are major paona brajabashi bir tikendrajit singh rani gaidinliu 13 years old naga girl haipou jadonang u tirot sing syiemlieh moje riba u kiang nangbah pa togan sangma and the list of names doesnt stop here there are many more , y_test_sample: 2\n",
      "prediction: POSITIVE, label: 2\n",
      "prompt: Classify the sentiment of the following text as POSITIVE, NEGATIVE, or NEUTRAL. Answer only with the category: judging by angel and leos reactions it seems like gugas cooking just gets better and better every video, y_test_sample: 2\n",
      "prediction: POSITIVE, label: 2\n",
      "prompt: Classify the sentiment of the following text as POSITIVE, NEGATIVE, or NEUTRAL. Answer only with the category: this guy raised me for 6 years i stopped watching him when after i hit puberty but i still come back now and then to remember him and see how he is doing i hope you know how much many people appreciate you and if only you could see and meet everyone that watched your videos in your prime from downloading that ghost tracking app and playing around to the disstrack and all the granny videos we truly love you, y_test_sample: 2\n",
      "prediction: POSITIVE, label: 2\n",
      "prompt: Classify the sentiment of the following text as POSITIVE, NEGATIVE, or NEUTRAL. Answer only with the category: 642 anxiety to the point where i was considering not going to this meetup even when i was sitting in the parking lot of the venue i felt that hard good job making it happen, y_test_sample: 0\n",
      "prediction: POSITIVE, label: 0\n",
      "prompt: Classify the sentiment of the following text as POSITIVE, NEGATIVE, or NEUTRAL. Answer only with the category: its always a calm day when dreamhop releases a new mix , y_test_sample: 2\n",
      "prediction: NEUTRAL, label: 2\n",
      "prompt: Classify the sentiment of the following text as POSITIVE, NEGATIVE, or NEUTRAL. Answer only with the category: any entertainment channel you watch will never tell you any of the real bad stuff they are doing they will give you some small nuggets of truth but never tell you whats really going on, y_test_sample: 0\n",
      "prediction: NEGATIVE, label: 0\n",
      "prompt: Classify the sentiment of the following text as POSITIVE, NEGATIVE, or NEUTRAL. Answer only with the category: what songbyrds husband eats kinda looks like bean soup we call it bableves in hungarian we just use a different type of bean its actually deliciousone of my fav soup, y_test_sample: 2\n",
      "prediction: POSITIVE, label: 2\n",
      "prompt: Classify the sentiment of the following text as POSITIVE, NEGATIVE, or NEUTRAL. Answer only with the category: that was very helpful video, y_test_sample: 2\n",
      "prediction: POSITIVE, label: 2\n",
      "prompt: Classify the sentiment of the following text as POSITIVE, NEGATIVE, or NEUTRAL. Answer only with the category: such a humble guy the way he approaches to convey the message to the audience brillant, y_test_sample: 2\n",
      "prediction: POSITIVE, label: 2\n",
      "prompt: Classify the sentiment of the following text as POSITIVE, NEGATIVE, or NEUTRAL. Answer only with the category: this is brilliantly done congrats, y_test_sample: 2\n",
      "prediction: POSITIVE, label: 2\n",
      "prompt: Classify the sentiment of the following text as POSITIVE, NEGATIVE, or NEUTRAL. Answer only with the category: i’m honestly waiting for the new ipad pro’s to drop might make the m1 pros available for cheaper refurbished or otherwise heck it may make the 2018 ones even cheaper, y_test_sample: 2\n",
      "prediction: NEUTRAL, label: 2\n",
      "prompt: Classify the sentiment of the following text as POSITIVE, NEGATIVE, or NEUTRAL. Answer only with the category: for a country with a terrible education rating in the world youre doing your best to fall further down the list, y_test_sample: 0\n",
      "prediction: NEGATIVE, label: 0\n",
      "prompt: Classify the sentiment of the following text as POSITIVE, NEGATIVE, or NEUTRAL. Answer only with the category: so we will see magnus in scc and some title tuesdays now thats a great news looking forward to see more magnus vs hikaru, y_test_sample: 2\n",
      "prediction: POSITIVE, label: 2\n",
      "prompt: Classify the sentiment of the following text as POSITIVE, NEGATIVE, or NEUTRAL. Answer only with the category: the fact that whalesdolphins can legally just be kept at places like seaworld is just insane given just the information in this video, y_test_sample: 0\n",
      "prediction: NEGATIVE, label: 0\n",
      "prompt: Classify the sentiment of the following text as POSITIVE, NEGATIVE, or NEUTRAL. Answer only with the category: br asmr muito god, y_test_sample: 1\n",
      "prediction: POSITIVE, label: 1\n",
      "prompt: Classify the sentiment of the following text as POSITIVE, NEGATIVE, or NEUTRAL. Answer only with the category: gongsam coming at us with another killer mukbang , y_test_sample: 1\n",
      "prediction: POSITIVE, label: 1\n",
      "prompt: Classify the sentiment of the following text as POSITIVE, NEGATIVE, or NEUTRAL. Answer only with the category: you know how theres speedruns for a single player beating minecraft how interesting would it be to see a speedrun with multiple players trying to beat minecraft together, y_test_sample: 2\n",
      "prediction: NEUTRAL, label: 2\n",
      "prompt: Classify the sentiment of the following text as POSITIVE, NEGATIVE, or NEUTRAL. Answer only with the category: eevee tiene un barretto , y_test_sample: 2\n",
      "prediction: NEUTRAL, label: 2\n",
      "prompt: Classify the sentiment of the following text as POSITIVE, NEGATIVE, or NEUTRAL. Answer only with the category: i really love these videos you make me relax and lay down in my bed lol, y_test_sample: 2\n",
      "prediction: POSITIVE, label: 2\n",
      "prompt: Classify the sentiment of the following text as POSITIVE, NEGATIVE, or NEUTRAL. Answer only with the category: man adventure time such a beautiful incomparable creationtruly blessed, y_test_sample: 2\n",
      "prediction: POSITIVE, label: 2\n",
      "prompt: Classify the sentiment of the following text as POSITIVE, NEGATIVE, or NEUTRAL. Answer only with the category: this is the best steam deck ive watched even out of all the tech youtubers and video game channels love the up in the video production quality as well wood keep levelling up awesome content, y_test_sample: 2\n",
      "prediction: POSITIVE, label: 2\n",
      "prompt: Classify the sentiment of the following text as POSITIVE, NEGATIVE, or NEUTRAL. Answer only with the category: shells in my palm like peanuts, y_test_sample: 1\n",
      "prediction: NEUTRAL, label: 1\n",
      "prompt: Classify the sentiment of the following text as POSITIVE, NEGATIVE, or NEUTRAL. Answer only with the category: the sound test killed me that was hilarious and the wrist rest is brilliant i often get marks on my wrist from my mousepad, y_test_sample: 2\n",
      "prediction: POSITIVE, label: 2\n",
      "prompt: Classify the sentiment of the following text as POSITIVE, NEGATIVE, or NEUTRAL. Answer only with the category: i love how chris uses “i have a child” excuse to get away with everything lol, y_test_sample: 2\n",
      "prediction: NEGATIVE, label: 2\n",
      "prompt: Classify the sentiment of the following text as POSITIVE, NEGATIVE, or NEUTRAL. Answer only with the category: trying to test out of bio 101 so i can eventually get my third degree nursing thanx hank along with that here is what i quickly typed down as a sort of summary feel free to fix  william prout discovered our stomachs have hydrochloric acid and discovered chemical composition of urea also discovered food is divided into carbs fats and proteins  carbohydrates are the source of all energy  carbs are made of sugars with the simplest being monosaccharides  glucose a monosaccharide number 1 sugar that comes from the sun  fructose same chemical as glucose but arranged differently and is sweeter  disaccharides are two monosaccharides put together  sucrose fructose and glucose connected is a disaccharide joined by a covalent bond  polysaccharides are thousands of simple sugar units  cellulose is a bunch of glucose molecules  bread is made of starch and amylase  our bodies store carbs in form of glycogen in our muscle until we need to use them  we store our energy long term through fat aka lipids  lipids are non polar and can’t dissolve in water  fats are made of glycerol and fatty acids  saturated fats don’t have double bonds while unsaturated fats do  trans fat do not exist in nature and are unsaturated and bad for the body  omega 3 fats unsaturated are essential but we need to eat them in order to get them  phospholipids form cell membrane walls to keep bad stuff out and good stuff in  phospholipids are one end polar and one end non polar  steroids a phospholipid made of 4 carbon rings are used to make cholesterol  proteins of made of 20 amino acids which do everything for the body  nitrogen can only be gotten into our bodies from food via foods high in protein  polypeptides are formed by long chains of amino acids  the 9 essential amino acids which are bodies can’t make on their own are histidine isoleucine leucine lysine methionine phenylalanine threonine tryptophan and valine, y_test_sample: 1\n",
      "prediction: NEUTRAL, label: 1\n",
      "prompt: Classify the sentiment of the following text as POSITIVE, NEGATIVE, or NEUTRAL. Answer only with the category: coding your own games is easier than you think skip ad, y_test_sample: 2\n",
      "prediction: NEUTRAL, label: 2\n",
      "prompt: Classify the sentiment of the following text as POSITIVE, NEGATIVE, or NEUTRAL. Answer only with the category: you are a life saver i got stuck with a pretty bad teacher and literally wouldve failed my exam if it wasnt for you, y_test_sample: 0\n",
      "prediction: POSITIVE, label: 0\n",
      "prompt: Classify the sentiment of the following text as POSITIVE, NEGATIVE, or NEUTRAL. Answer only with the category: im impressed with the thoroughness and professionalism exhibit by this team particularly their depth of knowledge focus integrity and attention to details make us very comfortable doing bitcoin investment with them, y_test_sample: 2\n",
      "prediction: POSITIVE, label: 2\n",
      "prompt: Classify the sentiment of the following text as POSITIVE, NEGATIVE, or NEUTRAL. Answer only with the category: this only works if all people involved are reasonable if one or more parties cant be reasoned with then the problem continues you can communicate until youre blue in the face but if the other person isnt willing to communicate appropriately then youve hit a brick wall, y_test_sample: 0\n",
      "prediction: NEGATIVE, label: 0\n",
      "prompt: Classify the sentiment of the following text as POSITIVE, NEGATIVE, or NEUTRAL. Answer only with the category: one of the best thing about dude is that he never takes credit for himself when he archives something he always respect us the audience and his team and he is polite in all his videos we congratulate ourselves on this achievement more to come, y_test_sample: 2\n",
      "prediction: POSITIVE, label: 2\n",
      "prompt: Classify the sentiment of the following text as POSITIVE, NEGATIVE, or NEUTRAL. Answer only with the category: glad to have found your channel this gives me a lot of insight im kinda feeling the i dont even like animating thing right now and wondering wtf else i can put those skills towards, y_test_sample: 1\n",
      "prediction: NEUTRAL, label: 1\n",
      "prompt: Classify the sentiment of the following text as POSITIVE, NEGATIVE, or NEUTRAL. Answer only with the category: so intelligent humble and articulate what a wonderful human, y_test_sample: 2\n",
      "prediction: POSITIVE, label: 2\n",
      "prompt: Classify the sentiment of the following text as POSITIVE, NEGATIVE, or NEUTRAL. Answer only with the category: this helped me so much my chem proffesor assigned a sig fig assignment with giving no context or review so i am very happy i came across your video thank you, y_test_sample: 2\n",
      "prediction: POSITIVE, label: 2\n",
      "prompt: Classify the sentiment of the following text as POSITIVE, NEGATIVE, or NEUTRAL. Answer only with the category: i dont know tamil but i am understanding the story by reading subtitlesobviously tamil movies are very good and awesome when it roled by my favourite actress, y_test_sample: 2\n",
      "prediction: POSITIVE, label: 2\n",
      "prompt: Classify the sentiment of the following text as POSITIVE, NEGATIVE, or NEUTRAL. Answer only with the category: i subscribed, y_test_sample: 1\n",
      "prediction: NEUTRAL, label: 1\n",
      "prompt: Classify the sentiment of the following text as POSITIVE, NEGATIVE, or NEUTRAL. Answer only with the category: such a great stream, y_test_sample: 2\n",
      "prediction: POSITIVE, label: 2\n",
      "prompt: Classify the sentiment of the following text as POSITIVE, NEGATIVE, or NEUTRAL. Answer only with the category: i use to be mase sunday school teacher in atlanta when he first got started… he got my home girl number off the membership list and he was dating his secretary at the time… my home girl told me she would be in the tub while talking to him… he asked her… “you want to get to know mase the man or mase the man of god… mase is the biggest hypocrite pastor out there i know from personal experience…, y_test_sample: 0\n",
      "prediction: NEGATIVE, label: 0\n",
      "prompt: Classify the sentiment of the following text as POSITIVE, NEGATIVE, or NEUTRAL. Answer only with the category: i will forever appreciate this channel youve helped me and my family a lot your videos advice lessons and funny words are inspirational and helpful to us my husband and i have been able to minimal conscious in spending saving and investing wisely i now earn every week youre such a blessing to this generation we all love you, y_test_sample: 2\n",
      "prediction: POSITIVE, label: 2\n",
      "prompt: Classify the sentiment of the following text as POSITIVE, NEGATIVE, or NEUTRAL. Answer only with the category: aap kitna kama eye ho, y_test_sample: 1\n",
      "prediction: NEUTRAL, label: 1\n",
      "prompt: Classify the sentiment of the following text as POSITIVE, NEGATIVE, or NEUTRAL. Answer only with the category: im a hs teacher and ive probably played this playlist as background music in my classroom for my students 100 times since april thanks for making it, y_test_sample: 2\n",
      "prediction: POSITIVE, label: 2\n",
      "prompt: Classify the sentiment of the following text as POSITIVE, NEGATIVE, or NEUTRAL. Answer only with the category: thank you for your incredible videos, y_test_sample: 2\n",
      "prediction: POSITIVE, label: 2\n",
      "prompt: Classify the sentiment of the following text as POSITIVE, NEGATIVE, or NEUTRAL. Answer only with the category: just started watching today everything seem so clear now looking forward to other videos, y_test_sample: 2\n",
      "prediction: POSITIVE, label: 2\n",
      "prompt: Classify the sentiment of the following text as POSITIVE, NEGATIVE, or NEUTRAL. Answer only with the category: number one lil durk is and always be untouchable and he is real he doesnt need to explain because nba is wrong both are powerful artist and i hope they can squash it, y_test_sample: 1\n",
      "prediction: NEUTRAL, label: 1\n",
      "prompt: Classify the sentiment of the following text as POSITIVE, NEGATIVE, or NEUTRAL. Answer only with the category: i wish the volume was better other than that good movie, y_test_sample: 1\n",
      "prediction: NEUTRAL, label: 1\n",
      "prompt: Classify the sentiment of the following text as POSITIVE, NEGATIVE, or NEUTRAL. Answer only with the category: when it comes to apple the key to the hints they give is not to overthink it and i’m pretty sure this is related to the newer bigger camera that’s gonna be on the phones that will take beautiful pictures of the night sky if there’s one thing i’ve learned about apple in the past 10 years is that they aren’t that deep, y_test_sample: 2\n",
      "prediction: NEUTRAL, label: 2\n",
      "prompt: Classify the sentiment of the following text as POSITIVE, NEGATIVE, or NEUTRAL. Answer only with the category: amazing story makes me regret wasting so much time during collage when i knew i wanted to develop my game dev skills, y_test_sample: 2\n",
      "prediction: NEGATIVE, label: 2\n",
      "prompt: Classify the sentiment of the following text as POSITIVE, NEGATIVE, or NEUTRAL. Answer only with the category: me as an american when he says hes going to try to spend 100 at food trucks ok so youre going to like 2 or 3 trucks cool, y_test_sample: 1\n",
      "prediction: NEUTRAL, label: 1\n",
      "prompt: Classify the sentiment of the following text as POSITIVE, NEGATIVE, or NEUTRAL. Answer only with the category: i don’t know why y’all didn’t see that coming he literally had a sugar daddy, y_test_sample: 0\n",
      "prediction: NEUTRAL, label: 0\n",
      "prompt: Classify the sentiment of the following text as POSITIVE, NEGATIVE, or NEUTRAL. Answer only with the category: explore our free courses with completion certificate, y_test_sample: 1\n",
      "prediction: NEUTRAL, label: 1\n",
      "prompt: Classify the sentiment of the following text as POSITIVE, NEGATIVE, or NEUTRAL. Answer only with the category: big tech companies der repair industry bad for privacy and safety also bit tech companies privacy no we need to monitor you so we can accuse you without a proper investigation, y_test_sample: 0\n",
      "prediction: NEGATIVE, label: 0\n",
      "prompt: Classify the sentiment of the following text as POSITIVE, NEGATIVE, or NEUTRAL. Answer only with the category: for the stopping time there is a timetimescale property that you can use to stop your scripts and physicsautosimulation which stops physics such as falling cubes, y_test_sample: 1\n",
      "prediction: NEUTRAL, label: 1\n",
      "prompt: Classify the sentiment of the following text as POSITIVE, NEGATIVE, or NEUTRAL. Answer only with the category: i’m running into ya on defense a lot in room 5 i play in diamond any advice i’ve been using wx but it’s dicey…, y_test_sample: 1\n",
      "prediction: NEUTRAL, label: 1\n",
      "prompt: Classify the sentiment of the following text as POSITIVE, NEGATIVE, or NEUTRAL. Answer only with the category: increíble la recreación del juego del dinosaurio cuando que solo sirve cuando no hay internet, y_test_sample: 1\n",
      "prediction: POSITIVE, label: 1\n",
      "prompt: Classify the sentiment of the following text as POSITIVE, NEGATIVE, or NEUTRAL. Answer only with the category: man i love seeing old media predict the future correctly they even showed the lack of joy all gamers have, y_test_sample: 2\n",
      "prediction: NEGATIVE, label: 2\n",
      "prompt: Classify the sentiment of the following text as POSITIVE, NEGATIVE, or NEUTRAL. Answer only with the category: check out spizee the new guy, y_test_sample: 1\n",
      "prediction: NEUTRAL, label: 1\n",
      "prompt: Classify the sentiment of the following text as POSITIVE, NEGATIVE, or NEUTRAL. Answer only with the category: one of the best videos i’ve watched on youtube so complete wasn’t what i was looking forgotta get more accurate at searching but i’m subscribing to your content because i learned the most watching this video and took notes thank you my good man wonderful day to you, y_test_sample: 2\n",
      "prediction: POSITIVE, label: 2\n",
      "prompt: Classify the sentiment of the following text as POSITIVE, NEGATIVE, or NEUTRAL. Answer only with the category: avengers endgame itself is speechless, y_test_sample: 0\n",
      "prediction: POSITIVE, label: 0\n",
      "prompt: Classify the sentiment of the following text as POSITIVE, NEGATIVE, or NEUTRAL. Answer only with the category: investing in stocks can be an efficient way to build wealth over time the key to making money in stocks is remaining in the stock market investors often move in and out of the stock market at the worst possible times missing out on that annual return, y_test_sample: 1\n",
      "prediction: NEUTRAL, label: 1\n",
      "prompt: Classify the sentiment of the following text as POSITIVE, NEGATIVE, or NEUTRAL. Answer only with the category: i absolutely adore this series of insane biology the long videos and high quality content keep it coming, y_test_sample: 2\n",
      "prediction: POSITIVE, label: 2\n",
      "prompt: Classify the sentiment of the following text as POSITIVE, NEGATIVE, or NEUTRAL. Answer only with the category: hats off to ptr each and every word uttered by him comes from his mind i read a comment which says that ptr is a ray of hope in these difficult times i endorse this statement, y_test_sample: 2\n",
      "prediction: POSITIVE, label: 2\n",
      "prompt: Classify the sentiment of the following text as POSITIVE, NEGATIVE, or NEUTRAL. Answer only with the category: this is amazing  i’m so excited for the future of these science discoveries, y_test_sample: 2\n",
      "prediction: POSITIVE, label: 2\n",
      "prompt: Classify the sentiment of the following text as POSITIVE, NEGATIVE, or NEUTRAL. Answer only with the category: how much courage do you have to have to troll the police, y_test_sample: 1\n",
      "prediction: NEUTRAL, label: 1\n",
      "prompt: Classify the sentiment of the following text as POSITIVE, NEGATIVE, or NEUTRAL. Answer only with the category: 1910 im honestly impressed by the time and effort you put into these videos keep it up , y_test_sample: 2\n",
      "prediction: POSITIVE, label: 2\n",
      "prompt: Classify the sentiment of the following text as POSITIVE, NEGATIVE, or NEUTRAL. Answer only with the category: why do these scary doctors perfrom radiation surgery on a villager in minecraft scary villager, y_test_sample: 0\n",
      "prediction: NEGATIVE, label: 0\n",
      "prompt: Classify the sentiment of the following text as POSITIVE, NEGATIVE, or NEUTRAL. Answer only with the category: and then we stab her in the neck soup was spot on calling him a bruv, y_test_sample: 0\n",
      "prediction: NEGATIVE, label: 0\n",
      "prompt: Classify the sentiment of the following text as POSITIVE, NEGATIVE, or NEUTRAL. Answer only with the category: why would they be angry they voted for it, y_test_sample: 0\n",
      "prediction: NEUTRAL, label: 0\n",
      "prompt: Classify the sentiment of the following text as POSITIVE, NEGATIVE, or NEUTRAL. Answer only with the category: great stream as always i appreciate the levelheaded approach you take to the news and the markets a lot has changed and thats on everything but the truth is i dont even care much about bullish or bearish market anymore because wtrade inspects got me cover as i am comfortably making 51b t c monthly, y_test_sample: 2\n",
      "prediction: POSITIVE, label: 2\n",
      "prompt: Classify the sentiment of the following text as POSITIVE, NEGATIVE, or NEUTRAL. Answer only with the category: make sure to check your answer sheet with someone next to you during the test, y_test_sample: 1\n",
      "prediction: NEUTRAL, label: 1\n",
      "prompt: Classify the sentiment of the following text as POSITIVE, NEGATIVE, or NEUTRAL. Answer only with the category: 95 of traders lose learn to hold no one goes from broke to rich without market pain stop selling and buying on emotion investment and hold get through the pain in 5 years youll do great dont buy meme coins if it hadnt been with the help of antonio carlson whom i cant thank enough i had already given up on crypto after losing so much money, y_test_sample: 1\n",
      "prediction: NEGATIVE, label: 1\n",
      "prompt: Classify the sentiment of the following text as POSITIVE, NEGATIVE, or NEUTRAL. Answer only with the category: fantastic tutorial much better than the others i watched its not lengthy and simply explained time frames are much appreciated the only thing i did not enjoy in the tutorial is the last layer part bc the algorithm was not taught in the intro and i messed it up due to the lack of practice on a side note i liked when you voiced the algorithm sequence not just showed, y_test_sample: 2\n",
      "prediction: POSITIVE, label: 2\n",
      "prompt: Classify the sentiment of the following text as POSITIVE, NEGATIVE, or NEUTRAL. Answer only with the category: thank you very much it really helps a lot hope you will continue doing such great videos, y_test_sample: 2\n",
      "prediction: POSITIVE, label: 2\n",
      "prompt: Classify the sentiment of the following text as POSITIVE, NEGATIVE, or NEUTRAL. Answer only with the category: in the final scene it really is tom cruise flying the plane and it really is his plane he also owns and pilots a jet, y_test_sample: 1\n",
      "prediction: NEUTRAL, label: 1\n",
      "prompt: Classify the sentiment of the following text as POSITIVE, NEGATIVE, or NEUTRAL. Answer only with the category: who has a more annoying voice lucas or omrilol, y_test_sample: 0\n",
      "prediction: NEUTRAL, label: 0\n",
      "prompt: Classify the sentiment of the following text as POSITIVE, NEGATIVE, or NEUTRAL. Answer only with the category: hi tee i enjoyed this video the seafood boil with the two sauces look so delicious your looking beautiful too  continue blessings to you and your family in jesus name have a blessed day, y_test_sample: 2\n",
      "prediction: POSITIVE, label: 2\n",
      "prompt: Classify the sentiment of the following text as POSITIVE, NEGATIVE, or NEUTRAL. Answer only with the category: to anybody whos reading this i pray that whatever is hurting you or whatever you are constantly stressing about gets better may the dark thoughts the overthinking and the doubt exit your mind may clarity replace confusion may peace and calmness fill your life , y_test_sample: 2\n",
      "prediction: POSITIVE, label: 2\n",
      "prompt: Classify the sentiment of the following text as POSITIVE, NEGATIVE, or NEUTRAL. Answer only with the category: i have never really been big on interacting in yt comments but you guys just might change that love the show, y_test_sample: 2\n",
      "prediction: POSITIVE, label: 2\n",
      "prompt: Classify the sentiment of the following text as POSITIVE, NEGATIVE, or NEUTRAL. Answer only with the category: lemon craft i think you should get over 30000000 likes i love your videos , y_test_sample: 2\n",
      "prediction: POSITIVE, label: 2\n",
      "prediction: positive, label: positive\n",
      "prediction: neutral, label: neutral\n",
      "prediction: positive, label: positive\n",
      "prediction: neutral, label: neutral\n",
      "prediction: negative, label: positive\n",
      "prediction: positive, label: positive\n",
      "prediction: positive, label: positive\n",
      "prediction: positive, label: positive\n",
      "prediction: positive, label: negative\n",
      "prediction: neutral, label: neutral\n",
      "prediction: negative, label: negative\n",
      "prediction: positive, label: positive\n",
      "prediction: neutral, label: neutral\n",
      "prediction: neutral, label: negative\n",
      "prediction: neutral, label: neutral\n",
      "prediction: neutral, label: neutral\n",
      "prediction: negative, label: neutral\n",
      "prediction: neutral, label: neutral\n",
      "prediction: negative, label: positive\n",
      "prediction: positive, label: positive\n",
      "prediction: positive, label: positive\n",
      "prediction: neutral, label: neutral\n",
      "prediction: neutral, label: positive\n",
      "prediction: positive, label: positive\n",
      "prediction: positive, label: positive\n",
      "prediction: positive, label: positive\n",
      "prediction: positive, label: negative\n",
      "prediction: neutral, label: positive\n",
      "prediction: negative, label: negative\n",
      "prediction: positive, label: positive\n",
      "prediction: positive, label: positive\n",
      "prediction: positive, label: positive\n",
      "prediction: positive, label: positive\n",
      "prediction: neutral, label: positive\n",
      "prediction: negative, label: negative\n",
      "prediction: positive, label: positive\n",
      "prediction: negative, label: negative\n",
      "prediction: positive, label: neutral\n",
      "prediction: positive, label: neutral\n",
      "prediction: neutral, label: positive\n",
      "prediction: neutral, label: positive\n",
      "prediction: positive, label: positive\n",
      "prediction: positive, label: positive\n",
      "prediction: positive, label: positive\n",
      "prediction: neutral, label: neutral\n",
      "prediction: positive, label: positive\n",
      "prediction: negative, label: positive\n",
      "prediction: neutral, label: neutral\n",
      "prediction: neutral, label: positive\n",
      "prediction: positive, label: negative\n",
      "prediction: positive, label: positive\n",
      "prediction: negative, label: negative\n",
      "prediction: positive, label: positive\n",
      "prediction: neutral, label: neutral\n",
      "prediction: positive, label: positive\n",
      "prediction: positive, label: positive\n",
      "prediction: positive, label: positive\n",
      "prediction: neutral, label: neutral\n",
      "prediction: positive, label: positive\n",
      "prediction: negative, label: negative\n",
      "prediction: positive, label: positive\n",
      "prediction: neutral, label: neutral\n",
      "prediction: positive, label: positive\n",
      "prediction: positive, label: positive\n",
      "prediction: positive, label: positive\n",
      "prediction: neutral, label: neutral\n",
      "prediction: neutral, label: neutral\n",
      "prediction: neutral, label: positive\n",
      "prediction: negative, label: positive\n",
      "prediction: neutral, label: neutral\n",
      "prediction: neutral, label: negative\n",
      "prediction: neutral, label: neutral\n",
      "prediction: negative, label: negative\n",
      "prediction: neutral, label: neutral\n",
      "prediction: neutral, label: neutral\n",
      "prediction: positive, label: neutral\n",
      "prediction: negative, label: positive\n",
      "prediction: neutral, label: neutral\n",
      "prediction: positive, label: positive\n",
      "prediction: positive, label: negative\n",
      "prediction: neutral, label: neutral\n",
      "prediction: positive, label: positive\n",
      "prediction: positive, label: positive\n",
      "prediction: positive, label: positive\n",
      "prediction: neutral, label: neutral\n",
      "prediction: positive, label: positive\n",
      "prediction: negative, label: negative\n",
      "prediction: negative, label: negative\n",
      "prediction: neutral, label: negative\n",
      "prediction: positive, label: positive\n",
      "prediction: neutral, label: neutral\n",
      "prediction: negative, label: neutral\n",
      "prediction: positive, label: positive\n",
      "prediction: positive, label: positive\n",
      "prediction: neutral, label: neutral\n",
      "prediction: neutral, label: negative\n",
      "prediction: positive, label: positive\n",
      "prediction: positive, label: positive\n",
      "prediction: positive, label: positive\n",
      "prediction: positive, label: positive\n",
      "Accuracy: 0.75\n",
      "Confusion matrix: [[ 9  4  4]\n",
      " [ 2 24  3]\n",
      " [ 5  7 42]]\n",
      "Classification report:               precision    recall  f1-score   support\n",
      "\n",
      "           0       0.56      0.53      0.55        17\n",
      "           1       0.69      0.83      0.75        29\n",
      "           2       0.86      0.78      0.82        54\n",
      "\n",
      "    accuracy                           0.75       100\n",
      "   macro avg       0.70      0.71      0.70       100\n",
      "weighted avg       0.76      0.75      0.75       100\n",
      "\n"
     ]
    },
    {
     "data": {
      "image/png": "[encoded data removed]",
      "text/plain": [
       "<Figure size 640x480 with 2 Axes>"
      ]
     },
     "metadata": {},
     "output_type": "display_data"
    }
   ],
   "source": [
    "model = 'gpt-4o'\n",
    "\n",
    "predictions = []\n",
    "for text, label in zip(X_test_sample, y_test_sample):\n",
    "    prompt = f\"Classify the sentiment of the following text as POSITIVE, NEGATIVE, or NEUTRAL. Answer only with the category: {text}\"\n",
    "    print(f'prompt: {prompt}, y_test_sample: {label}')\n",
    "    response = client.chat.completions.create(\n",
    "        model=model,\n",
    "        messages=[{\"role\": \"user\", \"content\": prompt}],\n",
    "    )\n",
    "    prediction = response.choices[0].message.content\n",
    "    text_of_label = sorted_y_values[label]\n",
    "    print(f\"prediction: {prediction}, label: {label}\")\n",
    "    # map the prediction to the label using sorted_y_values\n",
    "    # make prediction a string, stripped, lowercase \n",
    "    prediction = prediction.strip().lower()\n",
    "    # prediction = sorted_y_values.index(prediction)\n",
    "    predictions.append(prediction)\n",
    "    # y_pred.append(prediction)\n",
    "\n",
    "for prediction, label in zip(predictions, y_test_sample):\n",
    "    print(f\"prediction: {prediction}, label: {sorted_y_values[label]}\")\n",
    "\n",
    "predicion_ids = [sorted_y_values.index(prediction) for prediction in predictions]\n",
    "# predicion_ids\n",
    "\n",
    "# show classifier results\n",
    "show_classifier_results(y_test_sample, predicion_ids)\n"
   ]
  },
  {
   "cell_type": "code",
   "execution_count": null,
   "metadata": {},
   "outputs": [],
   "source": [
    "# model = 'gpt-4.5-preview-2025-02-27'\n",
    "\n",
    "\n",
    "\n",
    "\n"
   ]
  },
  {
   "cell_type": "markdown",
   "metadata": {},
   "source": [
    "## Classifier V2, going deeper"
   ]
  },
  {
   "cell_type": "code",
   "execution_count": null,
   "metadata": {},
   "outputs": [
    {
     "name": "stdout",
     "output_type": "stream",
     "text": [
      "true label: Outlook\n"
     ]
    }
   ],
   "source": [
    "# split intent_df into train and test\n",
    "from sklearn.model_selection import train_test_split\n",
    "# dont do this at home :) always choose an absolute value for test size\n",
    "train_df, test_df = train_test_split(itsm_df_focused, test_size=0.2, random_state=42)\n",
    "\n",
    "train_labels = train_df['Category'].values\n",
    "distinct_cats = set(train_labels)\n",
    "distinct_cats\n",
    "\n",
    "prompt_template = \"\"\"You are an ITSM agent. Your job is to classify the text into one of the following categories:\n",
    "<CATEGORIES>\n",
    "{{categories}} </CATEGORIES>. \n",
    "Here is an ITSM ticket. Please classify it into one of the categories.\n",
    "<REQUEST>\n",
    "{{request}} </REQUEST>. Please answer with the category. \n",
    "When in doubt among two categories, one more general and one\n",
    "more specific, pick the more specific one. For example if Mail and Outlook are both reasonable options, pick Outlook.\n",
    "If you do not know the answer, please type 'I do not know'.\n",
    "\"\"\"\n",
    "example_id = 3\n",
    "# use jinja2 to fill in the prompt\n",
    "from jinja2 import Template\n",
    "template = Template(prompt_template)\n",
    "categories = ', '.join(distinct_cats)\n",
    "request = test_df.iloc[example_id]['Text']\n",
    "print(f'true label: {test_df.iloc[example_id][\"Category\"]}')\n",
    "prompt = template.render(categories=categories, request=request)\n",
    "print(prompt)\n"
   ]
  },
  {
   "cell_type": "code",
   "execution_count": null,
   "metadata": {},
   "outputs": [
    {
     "name": "stdout",
     "output_type": "stream",
     "text": [
      "<think>\n",
      "Okay, I need to classify this ticket request into one of the given categories. Let me look at it carefully.\n",
      "\n",
      "The ticket asks to give blockaded attachments from a mail they received by email: name.nachname@firma.com. The reason is that these data are needed for brainstorming the business strategy. \n",
      "\n",
      "Looking at the categories, I have empty, keyboard, Discord, CRM, Outlook, Internet Browser, Mail, Asana, Mouse, and Help Needed.\n",
      "\n",
      "The main issue here seems to be handling attachments in emails. There's no direct mention of attachments or any specific tool related to them. So, the most fitting category is Mail since it's about handling data from an email address.\n",
      "\n",
      "I don't think it fits into CRM (Customer Relationship Management), Outlook because those are separate applications used for different purposes. Similarly, Stack Overflow isn't relevant here. Asana and Mouse aren't mentioned either, so I can rule them out. Help Needed could be possible if the user has specific questions, but without that, Mail seems the best fit.\n",
      "</think>\n",
      "\n",
      "Mail\n"
     ]
    }
   ],
   "source": [
    "response: ChatResponse = chat(model='deepseek-r1:1.5b', messages=[\n",
    "  {\n",
    "    'role': 'user',\n",
    "    'content': prompt,\n",
    "  },\n",
    "])\n",
    "# print(response['message']['content'])\n",
    "# or access fields directly from the response object\n",
    "print(response.message.content)"
   ]
  },
  {
   "cell_type": "code",
   "execution_count": null,
   "metadata": {},
   "outputs": [
    {
     "name": "stdout",
     "output_type": "stream",
     "text": [
      "Outlook\n"
     ]
    }
   ],
   "source": [
    "response: ChatResponse = chat(model='qwen2.5:14b', messages=[\n",
    "  {\n",
    "    'role': 'user',\n",
    "    'content': prompt,\n",
    "  },\n",
    "])\n",
    "# print(response['message']['content'])\n",
    "# or access fields directly from the response object\n",
    "print(response.message.content)"
   ]
  },
  {
   "cell_type": "code",
   "execution_count": null,
   "metadata": {},
   "outputs": [
    {
     "name": "stdout",
     "output_type": "stream",
     "text": [
      "Mail\n"
     ]
    }
   ],
   "source": [
    "# lets try with openAI\n",
    "model = 'gpt-4o-mini'\n",
    "response = client.chat.completions.create(\n",
    "    model=model,\n",
    "    messages=[{\"role\": \"user\", \"content\": prompt}],\n",
    ")\n",
    "prediction = response.choices[0].message.content\n",
    "print(prediction)"
   ]
  },
  {
   "cell_type": "code",
   "execution_count": null,
   "metadata": {},
   "outputs": [
    {
     "name": "stdout",
     "output_type": "stream",
     "text": [
      "Mail\n"
     ]
    }
   ],
   "source": [
    "# lets try with openAI\n",
    "model = 'gpt-4o'\n",
    "response = client.chat.completions.create(\n",
    "    model=model,\n",
    "    messages=[{\"role\": \"user\", \"content\": prompt}],\n",
    ")\n",
    "prediction = response.choices[0].message.content\n",
    "print(prediction)"
   ]
  },
  {
   "cell_type": "code",
   "execution_count": null,
   "metadata": {},
   "outputs": [
    {
     "name": "stdout",
     "output_type": "stream",
     "text": [
      "Outlook\n"
     ]
    }
   ],
   "source": [
    "# lets try with openAI\n",
    "model = 'o1-preview'\n",
    "response = client.chat.completions.create(\n",
    "    model=model,\n",
    "    messages=[{\"role\": \"user\", \"content\": prompt}],\n",
    ")\n",
    "prediction = response.choices[0].message.content\n",
    "print(prediction)"
   ]
  },
  {
   "cell_type": "markdown",
   "metadata": {},
   "source": [
    "# Create a classification agent"
   ]
  },
  {
   "cell_type": "code",
   "execution_count": null,
   "metadata": {},
   "outputs": [],
   "source": [
    "class ClassificationAgent:\n",
    "    def __init__(self, model='gpt-4o'):\n",
    "        self.model = model\n",
    "        self.client = OpenAI(api_key=OPENAI_API_KEY)\n",
    "\n",
    "    def classify(self, prompt):\n",
    "        response = self.client.chat.completions.create(\n",
    "            model=self.model,\n",
    "            messages=[{\"role\": \"user\", \"content\": prompt}],\n",
    "        )\n",
    "        prediction = response.choices[0].message.content\n",
    "        return prediction\n",
    "    \n",
    "    def classify_ticket(self, ticket, distinct_cats=None):\n",
    "        categories = ', '.join(distinct_cats)\n",
    "        request = ticket\n",
    "        prompt = template.render(categories=categories, request=request)\n",
    "        return self.classify(prompt)\n",
    "    \n"
   ]
  },
  {
   "cell_type": "markdown",
   "metadata": {},
   "source": [
    "# Clustering and output"
   ]
  },
  {
   "cell_type": "code",
   "execution_count": null,
   "metadata": {},
   "outputs": [
    {
     "name": "stderr",
     "output_type": "stream",
     "text": [
      "OMP: Info #276: omp_set_nested routine deprecated, please use omp_set_max_active_levels instead.\n"
     ]
    },
    {
     "name": "stdout",
     "output_type": "stream",
     "text": [
      "Number of clusters: 5\n",
      "   Topic  Count\n",
      "0     -1      6\n",
      "1      0     45\n",
      "2      1     39\n",
      "3      2     14\n",
      "4      3     14\n"
     ]
    },
    {
     "data": {
      "application/vnd.plotly.v1+json": {
       "config": {
        "plotlyServerURL": "https://plot.ly"
       },
       "data": [
        {
         "marker": {
          "color": "#D55E00"
         },
         "orientation": "h",
         "type": "bar",
         "x": [
          0.06176084942667624,
          0.06440650347902172,
          0.06624797720611716,
          0.07472539640132693,
          0.10316266416310825
         ],
         "xaxis": "x",
         "y": [
          "open  ",
          "work  ",
          "working  ",
          "crm  ",
          "outlook  "
         ],
         "yaxis": "y"
        },
        {
         "marker": {
          "color": "#0072B2"
         },
         "orientation": "h",
         "type": "bar",
         "x": [
          0.06557006436979428,
          0.07471444213579383,
          0.07759132032173308,
          0.08837641194764653,
          0.08837641194764653
         ],
         "xaxis": "x2",
         "y": [
          "die  ",
          "nicht  ",
          "sie  ",
          "ich  ",
          "bitte  "
         ],
         "yaxis": "y2"
        },
        {
         "marker": {
          "color": "#CC79A7"
         },
         "orientation": "h",
         "type": "bar",
         "x": [
          0.09687021900223505,
          0.09820041874059893,
          0.10459963695320397,
          0.10952529416695508,
          0.2831637264614971
         ],
         "xaxis": "x3",
         "y": [
          "install  ",
          "need  ",
          "dont  ",
          "talk  ",
          "discord  "
         ],
         "yaxis": "y3"
        },
        {
         "marker": {
          "color": "#E69F00"
         },
         "orientation": "h",
         "type": "bar",
         "x": [
          0.15235108152823362,
          0.15235108152823362,
          0.17235167452516564,
          0.24425207296862955,
          0.2553851228240742
         ],
         "xaxis": "x4",
         "y": [
          "home  ",
          "order  ",
          "mouse  ",
          "new  ",
          "keyboard  "
         ],
         "yaxis": "y4"
        }
       ],
       "layout": {
        "annotations": [
         {
          "font": {
           "size": 16
          },
          "showarrow": false,
          "text": "Topic 0",
          "x": 0.0875,
          "xanchor": "center",
          "xref": "paper",
          "y": 1,
          "yanchor": "bottom",
          "yref": "paper"
         },
         {
          "font": {
           "size": 16
          },
          "showarrow": false,
          "text": "Topic 1",
          "x": 0.36250000000000004,
          "xanchor": "center",
          "xref": "paper",
          "y": 1,
          "yanchor": "bottom",
          "yref": "paper"
         },
         {
          "font": {
           "size": 16
          },
          "showarrow": false,
          "text": "Topic 2",
          "x": 0.6375000000000001,
          "xanchor": "center",
          "xref": "paper",
          "y": 1,
          "yanchor": "bottom",
          "yref": "paper"
         },
         {
          "font": {
           "size": 16
          },
          "showarrow": false,
          "text": "Topic 3",
          "x": 0.9125,
          "xanchor": "center",
          "xref": "paper",
          "y": 1,
          "yanchor": "bottom",
          "yref": "paper"
         }
        ],
        "height": 325,
        "hoverlabel": {
         "bgcolor": "white",
         "font": {
          "family": "Rockwell",
          "size": 16
         }
        },
        "showlegend": false,
        "template": {
         "data": {
          "bar": [
           {
            "error_x": {
             "color": "#2a3f5f"
            },
            "error_y": {
             "color": "#2a3f5f"
            },
            "marker": {
             "line": {
              "color": "white",
              "width": 0.5
             },
             "pattern": {
              "fillmode": "overlay",
              "size": 10,
              "solidity": 0.2
             }
            },
            "type": "bar"
           }
          ],
          "barpolar": [
           {
            "marker": {
             "line": {
              "color": "white",
              "width": 0.5
             },
             "pattern": {
              "fillmode": "overlay",
              "size": 10,
              "solidity": 0.2
             }
            },
            "type": "barpolar"
           }
          ],
          "carpet": [
           {
            "aaxis": {
             "endlinecolor": "#2a3f5f",
             "gridcolor": "#C8D4E3",
             "linecolor": "#C8D4E3",
             "minorgridcolor": "#C8D4E3",
             "startlinecolor": "#2a3f5f"
            },
            "baxis": {
             "endlinecolor": "#2a3f5f",
             "gridcolor": "#C8D4E3",
             "linecolor": "#C8D4E3",
             "minorgridcolor": "#C8D4E3",
             "startlinecolor": "#2a3f5f"
            },
            "type": "carpet"
           }
          ],
          "choropleth": [
           {
            "colorbar": {
             "outlinewidth": 0,
             "ticks": ""
            },
            "type": "choropleth"
           }
          ],
          "contour": [
           {
            "colorbar": {
             "outlinewidth": 0,
             "ticks": ""
            },
            "colorscale": [
             [
              0,
              "#0d0887"
             ],
             [
              0.1111111111111111,
              "#46039f"
             ],
             [
              0.2222222222222222,
              "#7201a8"
             ],
             [
              0.3333333333333333,
              "#9c179e"
             ],
             [
              0.4444444444444444,
              "#bd3786"
             ],
             [
              0.5555555555555556,
              "#d8576b"
             ],
             [
              0.6666666666666666,
              "#ed7953"
             ],
             [
              0.7777777777777778,
              "#fb9f3a"
             ],
             [
              0.8888888888888888,
              "#fdca26"
             ],
             [
              1,
              "#f0f921"
             ]
            ],
            "type": "contour"
           }
          ],
          "contourcarpet": [
           {
            "colorbar": {
             "outlinewidth": 0,
             "ticks": ""
            },
            "type": "contourcarpet"
           }
          ],
          "heatmap": [
           {
            "colorbar": {
             "outlinewidth": 0,
             "ticks": ""
            },
            "colorscale": [
             [
              0,
              "#0d0887"
             ],
             [
              0.1111111111111111,
              "#46039f"
             ],
             [
              0.2222222222222222,
              "#7201a8"
             ],
             [
              0.3333333333333333,
              "#9c179e"
             ],
             [
              0.4444444444444444,
              "#bd3786"
             ],
             [
              0.5555555555555556,
              "#d8576b"
             ],
             [
              0.6666666666666666,
              "#ed7953"
             ],
             [
              0.7777777777777778,
              "#fb9f3a"
             ],
             [
              0.8888888888888888,
              "#fdca26"
             ],
             [
              1,
              "#f0f921"
             ]
            ],
            "type": "heatmap"
           }
          ],
          "heatmapgl": [
           {
            "colorbar": {
             "outlinewidth": 0,
             "ticks": ""
            },
            "colorscale": [
             [
              0,
              "#0d0887"
             ],
             [
              0.1111111111111111,
              "#46039f"
             ],
             [
              0.2222222222222222,
              "#7201a8"
             ],
             [
              0.3333333333333333,
              "#9c179e"
             ],
             [
              0.4444444444444444,
              "#bd3786"
             ],
             [
              0.5555555555555556,
              "#d8576b"
             ],
             [
              0.6666666666666666,
              "#ed7953"
             ],
             [
              0.7777777777777778,
              "#fb9f3a"
             ],
             [
              0.8888888888888888,
              "#fdca26"
             ],
             [
              1,
              "#f0f921"
             ]
            ],
            "type": "heatmapgl"
           }
          ],
          "histogram": [
           {
            "marker": {
             "pattern": {
              "fillmode": "overlay",
              "size": 10,
              "solidity": 0.2
             }
            },
            "type": "histogram"
           }
          ],
          "histogram2d": [
           {
            "colorbar": {
             "outlinewidth": 0,
             "ticks": ""
            },
            "colorscale": [
             [
              0,
              "#0d0887"
             ],
             [
              0.1111111111111111,
              "#46039f"
             ],
             [
              0.2222222222222222,
              "#7201a8"
             ],
             [
              0.3333333333333333,
              "#9c179e"
             ],
             [
              0.4444444444444444,
              "#bd3786"
             ],
             [
              0.5555555555555556,
              "#d8576b"
             ],
             [
              0.6666666666666666,
              "#ed7953"
             ],
             [
              0.7777777777777778,
              "#fb9f3a"
             ],
             [
              0.8888888888888888,
              "#fdca26"
             ],
             [
              1,
              "#f0f921"
             ]
            ],
            "type": "histogram2d"
           }
          ],
          "histogram2dcontour": [
           {
            "colorbar": {
             "outlinewidth": 0,
             "ticks": ""
            },
            "colorscale": [
             [
              0,
              "#0d0887"
             ],
             [
              0.1111111111111111,
              "#46039f"
             ],
             [
              0.2222222222222222,
              "#7201a8"
             ],
             [
              0.3333333333333333,
              "#9c179e"
             ],
             [
              0.4444444444444444,
              "#bd3786"
             ],
             [
              0.5555555555555556,
              "#d8576b"
             ],
             [
              0.6666666666666666,
              "#ed7953"
             ],
             [
              0.7777777777777778,
              "#fb9f3a"
             ],
             [
              0.8888888888888888,
              "#fdca26"
             ],
             [
              1,
              "#f0f921"
             ]
            ],
            "type": "histogram2dcontour"
           }
          ],
          "mesh3d": [
           {
            "colorbar": {
             "outlinewidth": 0,
             "ticks": ""
            },
            "type": "mesh3d"
           }
          ],
          "parcoords": [
           {
            "line": {
             "colorbar": {
              "outlinewidth": 0,
              "ticks": ""
             }
            },
            "type": "parcoords"
           }
          ],
          "pie": [
           {
            "automargin": true,
            "type": "pie"
           }
          ],
          "scatter": [
           {
            "fillpattern": {
             "fillmode": "overlay",
             "size": 10,
             "solidity": 0.2
            },
            "type": "scatter"
           }
          ],
          "scatter3d": [
           {
            "line": {
             "colorbar": {
              "outlinewidth": 0,
              "ticks": ""
             }
            },
            "marker": {
             "colorbar": {
              "outlinewidth": 0,
              "ticks": ""
             }
            },
            "type": "scatter3d"
           }
          ],
          "scattercarpet": [
           {
            "marker": {
             "colorbar": {
              "outlinewidth": 0,
              "ticks": ""
             }
            },
            "type": "scattercarpet"
           }
          ],
          "scattergeo": [
           {
            "marker": {
             "colorbar": {
              "outlinewidth": 0,
              "ticks": ""
             }
            },
            "type": "scattergeo"
           }
          ],
          "scattergl": [
           {
            "marker": {
             "colorbar": {
              "outlinewidth": 0,
              "ticks": ""
             }
            },
            "type": "scattergl"
           }
          ],
          "scattermapbox": [
           {
            "marker": {
             "colorbar": {
              "outlinewidth": 0,
              "ticks": ""
             }
            },
            "type": "scattermapbox"
           }
          ],
          "scatterpolar": [
           {
            "marker": {
             "colorbar": {
              "outlinewidth": 0,
              "ticks": ""
             }
            },
            "type": "scatterpolar"
           }
          ],
          "scatterpolargl": [
           {
            "marker": {
             "colorbar": {
              "outlinewidth": 0,
              "ticks": ""
             }
            },
            "type": "scatterpolargl"
           }
          ],
          "scatterternary": [
           {
            "marker": {
             "colorbar": {
              "outlinewidth": 0,
              "ticks": ""
             }
            },
            "type": "scatterternary"
           }
          ],
          "surface": [
           {
            "colorbar": {
             "outlinewidth": 0,
             "ticks": ""
            },
            "colorscale": [
             [
              0,
              "#0d0887"
             ],
             [
              0.1111111111111111,
              "#46039f"
             ],
             [
              0.2222222222222222,
              "#7201a8"
             ],
             [
              0.3333333333333333,
              "#9c179e"
             ],
             [
              0.4444444444444444,
              "#bd3786"
             ],
             [
              0.5555555555555556,
              "#d8576b"
             ],
             [
              0.6666666666666666,
              "#ed7953"
             ],
             [
              0.7777777777777778,
              "#fb9f3a"
             ],
             [
              0.8888888888888888,
              "#fdca26"
             ],
             [
              1,
              "#f0f921"
             ]
            ],
            "type": "surface"
           }
          ],
          "table": [
           {
            "cells": {
             "fill": {
              "color": "#EBF0F8"
             },
             "line": {
              "color": "white"
             }
            },
            "header": {
             "fill": {
              "color": "#C8D4E3"
             },
             "line": {
              "color": "white"
             }
            },
            "type": "table"
           }
          ]
         },
         "layout": {
          "annotationdefaults": {
           "arrowcolor": "#2a3f5f",
           "arrowhead": 0,
           "arrowwidth": 1
          },
          "autotypenumbers": "strict",
          "coloraxis": {
           "colorbar": {
            "outlinewidth": 0,
            "ticks": ""
           }
          },
          "colorscale": {
           "diverging": [
            [
             0,
             "#8e0152"
            ],
            [
             0.1,
             "#c51b7d"
            ],
            [
             0.2,
             "#de77ae"
            ],
            [
             0.3,
             "#f1b6da"
            ],
            [
             0.4,
             "#fde0ef"
            ],
            [
             0.5,
             "#f7f7f7"
            ],
            [
             0.6,
             "#e6f5d0"
            ],
            [
             0.7,
             "#b8e186"
            ],
            [
             0.8,
             "#7fbc41"
            ],
            [
             0.9,
             "#4d9221"
            ],
            [
             1,
             "#276419"
            ]
           ],
           "sequential": [
            [
             0,
             "#0d0887"
            ],
            [
             0.1111111111111111,
             "#46039f"
            ],
            [
             0.2222222222222222,
             "#7201a8"
            ],
            [
             0.3333333333333333,
             "#9c179e"
            ],
            [
             0.4444444444444444,
             "#bd3786"
            ],
            [
             0.5555555555555556,
             "#d8576b"
            ],
            [
             0.6666666666666666,
             "#ed7953"
            ],
            [
             0.7777777777777778,
             "#fb9f3a"
            ],
            [
             0.8888888888888888,
             "#fdca26"
            ],
            [
             1,
             "#f0f921"
            ]
           ],
           "sequentialminus": [
            [
             0,
             "#0d0887"
            ],
            [
             0.1111111111111111,
             "#46039f"
            ],
            [
             0.2222222222222222,
             "#7201a8"
            ],
            [
             0.3333333333333333,
             "#9c179e"
            ],
            [
             0.4444444444444444,
             "#bd3786"
            ],
            [
             0.5555555555555556,
             "#d8576b"
            ],
            [
             0.6666666666666666,
             "#ed7953"
            ],
            [
             0.7777777777777778,
             "#fb9f3a"
            ],
            [
             0.8888888888888888,
             "#fdca26"
            ],
            [
             1,
             "#f0f921"
            ]
           ]
          },
          "colorway": [
           "#636efa",
           "#EF553B",
           "#00cc96",
           "#ab63fa",
           "#FFA15A",
           "#19d3f3",
           "#FF6692",
           "#B6E880",
           "#FF97FF",
           "#FECB52"
          ],
          "font": {
           "color": "#2a3f5f"
          },
          "geo": {
           "bgcolor": "white",
           "lakecolor": "white",
           "landcolor": "white",
           "showlakes": true,
           "showland": true,
           "subunitcolor": "#C8D4E3"
          },
          "hoverlabel": {
           "align": "left"
          },
          "hovermode": "closest",
          "mapbox": {
           "style": "light"
          },
          "paper_bgcolor": "white",
          "plot_bgcolor": "white",
          "polar": {
           "angularaxis": {
            "gridcolor": "#EBF0F8",
            "linecolor": "#EBF0F8",
            "ticks": ""
           },
           "bgcolor": "white",
           "radialaxis": {
            "gridcolor": "#EBF0F8",
            "linecolor": "#EBF0F8",
            "ticks": ""
           }
          },
          "scene": {
           "xaxis": {
            "backgroundcolor": "white",
            "gridcolor": "#DFE8F3",
            "gridwidth": 2,
            "linecolor": "#EBF0F8",
            "showbackground": true,
            "ticks": "",
            "zerolinecolor": "#EBF0F8"
           },
           "yaxis": {
            "backgroundcolor": "white",
            "gridcolor": "#DFE8F3",
            "gridwidth": 2,
            "linecolor": "#EBF0F8",
            "showbackground": true,
            "ticks": "",
            "zerolinecolor": "#EBF0F8"
           },
           "zaxis": {
            "backgroundcolor": "white",
            "gridcolor": "#DFE8F3",
            "gridwidth": 2,
            "linecolor": "#EBF0F8",
            "showbackground": true,
            "ticks": "",
            "zerolinecolor": "#EBF0F8"
           }
          },
          "shapedefaults": {
           "line": {
            "color": "#2a3f5f"
           }
          },
          "ternary": {
           "aaxis": {
            "gridcolor": "#DFE8F3",
            "linecolor": "#A2B1C6",
            "ticks": ""
           },
           "baxis": {
            "gridcolor": "#DFE8F3",
            "linecolor": "#A2B1C6",
            "ticks": ""
           },
           "bgcolor": "white",
           "caxis": {
            "gridcolor": "#DFE8F3",
            "linecolor": "#A2B1C6",
            "ticks": ""
           }
          },
          "title": {
           "x": 0.05
          },
          "xaxis": {
           "automargin": true,
           "gridcolor": "#EBF0F8",
           "linecolor": "#EBF0F8",
           "ticks": "",
           "title": {
            "standoff": 15
           },
           "zerolinecolor": "#EBF0F8",
           "zerolinewidth": 2
          },
          "yaxis": {
           "automargin": true,
           "gridcolor": "#EBF0F8",
           "linecolor": "#EBF0F8",
           "ticks": "",
           "title": {
            "standoff": 15
           },
           "zerolinecolor": "#EBF0F8",
           "zerolinewidth": 2
          }
         }
        },
        "title": {
         "text": "Cluster distribution"
        },
        "width": 1000,
        "xaxis": {
         "anchor": "y",
         "domain": [
          0,
          0.175
         ],
         "showgrid": true
        },
        "xaxis2": {
         "anchor": "y2",
         "domain": [
          0.275,
          0.45
         ],
         "showgrid": true
        },
        "xaxis3": {
         "anchor": "y3",
         "domain": [
          0.55,
          0.7250000000000001
         ],
         "showgrid": true
        },
        "xaxis4": {
         "anchor": "y4",
         "domain": [
          0.825,
          1
         ],
         "showgrid": true
        },
        "yaxis": {
         "anchor": "x",
         "domain": [
          0,
          1
         ],
         "showgrid": true
        },
        "yaxis2": {
         "anchor": "x2",
         "domain": [
          0,
          1
         ],
         "showgrid": true
        },
        "yaxis3": {
         "anchor": "x3",
         "domain": [
          0,
          1
         ],
         "showgrid": true
        },
        "yaxis4": {
         "anchor": "x4",
         "domain": [
          0,
          1
         ],
         "showgrid": true
        }
       }
      }
     },
     "metadata": {},
     "output_type": "display_data"
    }
   ],
   "source": [
    "# cluster with bertopic and visualize\n",
    "from bertopic import BERTopic\n",
    "from sklearn.metrics import silhouette_score\n",
    "from sklearn.feature_extraction.text import CountVectorizer\n",
    "vectorizer = CountVectorizer(stop_words='english')\n",
    "\n",
    "\n",
    "topic_model = BERTopic(language=\"english\", calculate_probabilities=True, vectorizer_model=vectorizer)\n",
    "topics, probs = topic_model.fit_transform(intent_df['Text'].values)\n",
    "\n",
    "# get the most frequent topics\n",
    "topic_freq = topic_model.get_topic_info()\n",
    "topic_freq.head()\n",
    "\n",
    "\n",
    "\n",
    "\n",
    "# plot a barchart of the most frequent topics along with their keywords\n",
    "# please do show the keywords in the plot\n",
    "\n",
    "topic_info = topic_model.get_topic_info()\n",
    "topics = topic_model.get_topics()\n",
    "\n",
    "print(f'Number of clusters: {len(topic_info)}')\n",
    "print (topic_info[['Topic', 'Count']] [:20])\n",
    "\n",
    "\n",
    "\n",
    "fig = topic_model.visualize_barchart(top_n_topics=20)\n",
    "fig.update_layout(title=f\"Cluster distribution\")\n",
    "\n",
    "\n",
    "\n",
    "\n",
    "\n"
   ]
  },
  {
   "cell_type": "markdown",
   "metadata": {},
   "source": [
    "# LLM as a clusterer (clustering agent)"
   ]
  },
  {
   "cell_type": "code",
   "execution_count": null,
   "metadata": {},
   "outputs": [
    {
     "name": "stdout",
     "output_type": "stream",
     "text": [
      "<think>\n",
      "\n",
      "</think>\n",
      "\n",
      "The color of the sky, also known as atmospheric transparency, primarily depends on the amount of blue light (blue radiation) in the atmosphere. Blue light has a shorter wavelength than red or orange light, which means it travels through the Earth's atmosphere more slowly and can scatter off small particles such as dust and water droplets. When sunlight enters Earth's atmosphere, some of its blue component is scattered back towards us, causing the sky to appear blue.\n",
      "\n",
      "However, this scattering effect also leads to a phenomenon called Rayleigh scattering. Light with an average wavelength in the atmosphere scatters less frequently and can pass through, resulting in the sky appearing more transparent than pure blue light would suggest. This combination of factors gives us the impression that the sky is blue.\n"
     ]
    }
   ],
   "source": [
    "from ollama import chat\n",
    "from ollama import ChatResponse\n",
    "\n",
    "response: ChatResponse = chat(model='deepseek-r1:1.5b', messages=[\n",
    "  {\n",
    "    'role': 'user',\n",
    "    'content': 'Why is the sky blue?',\n",
    "  },\n",
    "])\n",
    "# print(response['message']['content'])\n",
    "# or access fields directly from the response object\n",
    "print(response.message.content)"
   ]
  },
  {
   "cell_type": "markdown",
   "metadata": {},
   "source": [
    "## LLM as classifier"
   ]
  },
  {
   "cell_type": "code",
   "execution_count": null,
   "metadata": {},
   "outputs": [],
   "source": [
    "\n",
    "\n",
    "\n"
   ]
  },
  {
   "cell_type": "code",
   "execution_count": null,
   "metadata": {},
   "outputs": [
    {
     "name": "stdout",
     "output_type": "stream",
     "text": [
      "true label: Outlook\n"
     ]
    }
   ],
   "source": []
  },
  {
   "cell_type": "code",
   "execution_count": null,
   "metadata": {},
   "outputs": [
    {
     "name": "stdout",
     "output_type": "stream",
     "text": [
      "<think>\n",
      "Okay, so I need to classify this ITSM ticket into one of the given categories: EMPTY, Mouse, Internet Browser, CRM, Discord, Keyboard , Asana, Outlook, Help Needed, Mail. \n",
      "\n",
      "First, looking at the text provided. The request is in German and says:\n",
      "\n",
      "\" Bitte geben Sie blockierte Anhänge aus derMail, die ich von name.nachname@firma.comfriedrich.de. Dies sind Daten, die für das Brainstorming der Vertriebsstrategie benötigt werden.\"\n",
      "\n",
      "Breaking this down: It's asking for blocked attachments from a specific email address. The user has provided an example of their email (name.nachname@firma.comfriedrich.de) but the exact details are in a box. They mention that these data are needed for brainstorming the distribution strategy.\n",
      "\n",
      "Now, considering the categories:\n",
      "\n",
      "- EMPTY: Doesn't fit because it's not empty.\n",
      "- Mouse: Also doesn't fit; no mouse involved here.\n",
      "- Internet Browser: Unlikely since it's about attachments and email addresses.\n",
      "- CRM: Not directly related unless there's a need to manage CRM systems, but this seems more about data for strategy than CRM functions.\n",
      "- Discord: Doesn't seem relevant because the request is about attachments from an email address, not a Discord server.\n",
      "- Keyboard: No keyboard elements mentioned.\n",
      "- Asana: Again, no connection to Asana or any software in the categories.\n",
      "- Outlook: This could be relevant. Email addresses are part of Outlook accounts, and sending attachments could be done through Outlook's attachment features, especially if it's an email from a company that uses Outlook for communication.\n",
      "- Help Needed: It could also fit here because the user is asking for something to help with their strategy, implying they need assistance or information.\n",
      "\n",
      "The categories that are more specific would include Asana and Outlook. However, since Asana isn't listed in the options, I think Outlook might be a better fit as it's directly related to email addresses provided via an email address (which could be via Outlook if the user is using it). \n",
      "\n",
      "But looking again at the possible categories, \"Outlook\" is there, so that seems more appropriate. But sometimes when two options are equally good, like both being applicable, I have to pick based on specificity and generalizability. If a request comes from an email address, Outlook is likely the more specific category since it's about sending attachments from an account.\n",
      "\n",
      "So, after considering all possibilities, the most appropriate category would be Outlook.\n",
      "</think>\n",
      "\n",
      "Outlook\n"
     ]
    }
   ],
   "source": []
  },
  {
   "cell_type": "code",
   "execution_count": null,
   "metadata": {},
   "outputs": [
    {
     "name": "stdout",
     "output_type": "stream",
     "text": [
      "Outlook\n"
     ]
    }
   ],
   "source": []
  },
  {
   "cell_type": "markdown",
   "metadata": {},
   "source": [
    "# Gen AI to cluster"
   ]
  },
  {
   "cell_type": "code",
   "execution_count": null,
   "metadata": {},
   "outputs": [],
   "source": [
    "clustering_template = \"\"\"You are an ITSM agent. Your job is to group the following ITSM requests into groups, and give a name to each group.\n",
    "Here is the list of enumerated ITSM requests:\n",
    "<REQUEST>\n",
    "{{request}} \n",
    "</REQUEST>.\n",
    "\n",
    "Please answer with a JSON dict where the keys are group names, and the values are list of IDs of requests that belong to that group.\n",
    "The json looks like this:\n",
    "{\n",
    "  \"group 1\": [1, 2, 3],\n",
    "  \"group 2\": [4, 5, 6]\n",
    "}\n",
    "\n",
    "\"\"\""
   ]
  },
  {
   "cell_type": "code",
   "execution_count": null,
   "metadata": {},
   "outputs": [
    {
     "name": "stdout",
     "output_type": "stream",
     "text": [
      "You are an ITSM agent. Your job is to group the following ITSM requests into groups, and give a name to each group.\n",
      "Here is the list of enumerated ITSM requests:\n",
      "<REQUEST>\n",
      "1. Mail is not working, I can't open it. Please help. I also get a lot of spam emails when it's working, please install some spam blocker as well.\n",
      "2. Bitte reparieren Sie mein Hubspot CRM. Seit gestern funktioniert es nicht mehr\n",
      "3. Discor needed for instalation.\n",
      "4. <p> Bitte geben Sie blockierte Anhänge aus der Mail frei, die ich von name.nachname@firma.com erhalten habe. Dies sind Daten, die für das Brainstorming der Vertriebsstrategie benötigt werden. </p>\n",
      "5. Microsoft Outlook doesn't work. I can't send or recieve any mails. Please help.\n",
      "6. Please send the new keyboard to my home address for home office: City, Street 12, Flat: Surname.\n",
      "7. Our CRM stopped to work again. I can't start it.\n",
      "8. Please install Discord on my PC. I also have issues with Powerpoint and I need a new mouse. I don't want to follow stupid instructions of posting one problem per request. I'm very important person in my company and I want to have my problems prioritized. Don't have the whole day to chat with customer support. I would install all I need bymyself if I had admin rights, which I mentioned multiple times to CTO, but he obviously don't wnat to hear me. Feel free to forward him this!\n",
      "9. <p>Bundled problems with Office since restart:</p><p>Messages not sent</p><p>Outlook does not connect, mails do not arrive</p><p>Error 0x8004deb0 appears when Connection attempt, see attachment</p><p>The company account is affected: AB123</p><p>Access via Office.com seems to be possible.</p>\n",
      "10. CRM funktioniert nach dem letzten Windows-Update nicht. \n",
      "</REQUEST>.\n",
      "\n",
      "Please answer with a JSON dict where the keys are group names, and the values are list of IDs of requests that belong to that group.\n",
      "The json looks like this:\n",
      "{\n",
      "  \"group 1\": [1, 2, 3],\n",
      "  \"group 2\": [4, 5, 6]\n",
      "}\n",
      "\n"
     ]
    }
   ],
   "source": [
    "# get the first 10 requests\n",
    "requests = test_df['Text'].values[:10]\n",
    "requests = '\\n'.join([f'{i+1}. {r}' for i, r in enumerate(requests)])\n",
    "prompt = Template(clustering_template).render(request=requests)\n",
    "print(prompt)"
   ]
  },
  {
   "cell_type": "code",
   "execution_count": null,
   "metadata": {},
   "outputs": [
    {
     "name": "stdout",
     "output_type": "stream",
     "text": [
      "{\n",
      "  \"Email Issues\": [1, 5, 9],\n",
      "  \"CRM Problems\": [2, 7, 10],\n",
      "  \"Discord Requests\": [3, 8],\n",
      "  \"Specific Email Request\": [4],\n",
      "  \"Hardware Request\": [6]\n",
      "}\n"
     ]
    }
   ],
   "source": [
    "response: ChatResponse = chat(model='qwen2.5:14b', messages=[\n",
    "  {\n",
    "    'role': 'user',\n",
    "    'content': prompt,\n",
    "  },\n",
    "])\n",
    "# print(response['message']['content'])\n",
    "# or access fields directly from the response object\n",
    "print(response.message.content)"
   ]
  },
  {
   "cell_type": "code",
   "execution_count": null,
   "metadata": {},
   "outputs": [],
   "source": []
  }
 ],
 "metadata": {
  "kernelspec": {
   "display_name": "3new",
   "language": "python",
   "name": "python3"
  },
  "language_info": {
   "codemirror_mode": {
    "name": "ipython",
    "version": 3
   },
   "file_extension": ".py",
   "mimetype": "text/x-python",
   "name": "python",
   "nbconvert_exporter": "python",
   "pygments_lexer": "ipython3",
   "version": "3.9.6"
  }
 },
 "nbformat": 4,
 "nbformat_minor": 2
}
